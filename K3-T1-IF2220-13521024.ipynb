{
 "cells": [
  {
   "attachments": {},
   "cell_type": "markdown",
   "metadata": {},
   "source": [
    "# Tugas Besar - IF2220 - Probabilitas dan Statistika\n",
    "**Penarikan Kesimpulan dan Pengujian Hipotesis**"
   ]
  },
  {
   "attachments": {},
   "cell_type": "markdown",
   "metadata": {},
   "source": [
    "Enam Langkah Testing:\n",
    "1. Tentukan Hipotesis nol $(H_0: θ = θ_0)$, dimana $θ$ bisa berupa $μ$, $σ^2$, $p$, atau data lain berdistribusi tertentu (normal, binomial, dsc.).\n",
    "\n",
    "2. Pilih hipotesis alternatif $H_1$ salah dari dari $θ > θ_0$, $θ < θ_0$, atau $θ ≠ θ_0$\n",
    "3. Tentukan tingkat signifikan $α$.\n",
    "4. Tentukan uji statistik yang sesuai dan tentukan daerah kritis.\n",
    "5. Hitung nilai uji statistik dari data sample. Hitung $p$-value sesuai dengan uji statistik yang digunakan.\n",
    "6. Ambil keputusan dengan **TOLAK** $H_0$ jika nilai uji terletak di daerah kritis atau dengan tes signifikan, **TOLAK** $H_0$ jika $p$-value lebih kecil dibanding tingkat signifikansi $α$ yang diinginkan."
   ]
  },
  {
   "attachments": {},
   "cell_type": "markdown",
   "metadata": {},
   "source": [
    "***\n",
    "```\n",
    "```"
   ]
  },
  {
   "attachments": {},
   "cell_type": "markdown",
   "metadata": {},
   "source": [
    "## Author\n",
    "| NIM | Nama |\n",
    "| :---: | :---: |\n",
    "| 13521003 | Bintang Hijriawan Jachja |\n",
    "| 13521024 | Ahmad Nadil |"
   ]
  },
  {
   "attachments": {},
   "cell_type": "markdown",
   "metadata": {},
   "source": [
    "***\n",
    "```\n",
    "```"
   ]
  },
  {
   "attachments": {},
   "cell_type": "markdown",
   "metadata": {},
   "source": [
    "## Daftar Isi\n",
    "- [Problem-Set](#problem-set)\n",
    "- [Library and Data Loading](#library-and-data-loading)\n",
    "- [1. Deskripsi Data](#1-deskripsi-statistika)\n",
    "- [2. Visualisasi Plot Distribusi](#2-visualisasi-plot-distribusi)\n",
    "- [3. Uji Normalitas](#3-menentukan-setiap-kolom-numerik-berdistribusi-normal-atau-tidak)\n",
    "- [4. Uji Hipotesis 1 Sampel](#4-melakukan-test-hipotesis-1-sampel)\n",
    "- [5. Uji Hipotesis 2 Sampel](#5-melakukan-test-hipotesis-2-sampel)"
   ]
  },
  {
   "attachments": {},
   "cell_type": "markdown",
   "metadata": {},
   "source": [
    "***\n",
    "```\n",
    "```"
   ]
  },
  {
   "attachments": {},
   "cell_type": "markdown",
   "metadata": {},
   "source": [
    "# Problem-Set\n",
    "Diberikan sebuah data anggur.csv yang dapat diakses pada utas berikut: Dataset Tugas Besar\n",
    "IF2220. anggur.csv merupakan data metrik kualitas wine (minuman anggur) yang\n",
    "mengandung 12 kolom sebagai berikut:\n",
    "1. fixed acidity\n",
    "2. volatile acidity\n",
    "3. citric acid\n",
    "4. residual sugar\n",
    "5. chlorides\n",
    "6. free sulfur dioxide\n",
    "7. total sulfur dioxide\n",
    "8. density\n",
    "9. pH\n",
    "10. sulphates\n",
    "11. alcohol\n",
    "12. quality\n",
    "\n",
    "Kolom 1-11 adalah kolom atribut (non-target), sedangkan kolom 12 adalah kolom\n",
    "target. Anda diminta untuk melakukan analisis statistika sebagai berikut:\n",
    "\n",
    "### 1. Deskripsi Statistika\n",
    "Menulis deskripsi statistika (Descriptive Statistics) dari semua kolom pada data yang bersifat\n",
    "numerik, terdiri dari mean, median, modus, standar deviasi, variansi, range, nilai minimum,\n",
    "maksimum, kuartil, IQR, skewness dan kurtosis. Boleh juga ditambahkan deskripsi lain.\n",
    "\n",
    "### 2. Visualisasi Plot Distribusi\n",
    "Membuat Visualisasi plot distribusi, dalam bentuk histogram dan boxplot untuk setiap\n",
    "kolom numerik. Berikan uraian penjelasan kondisi setiap kolom berdasarkan kedua plot\n",
    "tersebut.\n",
    "\n",
    "### 3. Menentukan setiap kolom numerik berdistribusi normal atau tidak\n",
    "Menentukan setiap kolom numerik berdistribusi normal atau tidak. Gunakan normality test\n",
    "yang dikaitkan dengan histogram plot.\n",
    "\n",
    "### 4. Melakukan test hipotesis 1 sampel\n",
    "a. Nilai rata-rata pH di atas 3.29?\n",
    "\n",
    "b. Nilai rata-rata Residual Sugar tidak sama dengan 2.50?\n",
    "\n",
    "c. Nilai rata-rata 150 baris pertama kolom sulphates bukan 0.65?\n",
    "\n",
    "d. Nilai rata-rata total sulfur dioxide di bawah 35?\n",
    "\n",
    "e. Proporsi nilai total sulfur dioxide yang lebih dari 40, adalah tidak sama dengan 50% ?\n",
    "    \n",
    "### 5. Melakukan test hipotesis 2 sampel,\n",
    "a. Data kolom fixed acidity dibagi 2 sama rata: bagian awal dan bagian akhir kolom.\n",
    "Benarkah rata-rata kedua bagian tersebut sama?\n",
    "\n",
    "b. Data kolom chlorides dibagi 2 sama rata: bagian awal dan bagian akhir kolom. Benarkah\n",
    "rata-rata bagian awal lebih besar daripada bagian akhir sebesar 0.001?\n",
    "\n",
    "c. Benarkah rata-rata sampel 25 baris pertama kolom Volatile Acidity sama dengan\n",
    "rata-rata 25 baris pertama kolom Sulphates ?\n",
    "\n",
    "d. Bagian awal kolom residual sugar memiliki variansi yang sama dengan bagian akhirnya?\n",
    "\n",
    "e. Proporsi nilai setengah bagian awal alcohol yang lebih dari 7, adalah lebih besar\n",
    "daripada, proporsi nilai yang sama di setengah bagian akhir alcohol?"
   ]
  },
  {
   "attachments": {},
   "cell_type": "markdown",
   "metadata": {},
   "source": [
    "***\n",
    "```\n",
    "```"
   ]
  },
  {
   "attachments": {},
   "cell_type": "markdown",
   "metadata": {},
   "source": [
    "# Library and Data Loading"
   ]
  },
  {
   "cell_type": "code",
   "execution_count": 165,
   "metadata": {},
   "outputs": [],
   "source": [
    "import pandas as pd\n",
    "import matplotlib.pyplot as plt\n",
    "from scipy.stats import norm, t, f, normaltest\n",
    "import scipy.stats as stats\n",
    "import numpy as np\n",
    "import seaborn as sns\n",
    "from IPython.display import display, Markdown \n",
    "data = pd.read_csv('anggur.csv')"
   ]
  },
  {
   "attachments": {},
   "cell_type": "markdown",
   "metadata": {},
   "source": [
    "# 1. Deskripsi Statistika"
   ]
  },
  {
   "attachments": {},
   "cell_type": "markdown",
   "metadata": {},
   "source": [
    "### Penjelasan Atribut :\n",
    "\n",
    "- Count     : Jumlah data\n",
    "- Mean      : Rata-rata, nilai rata-rata dari semua data\n",
    "- Std       : Standar deviasi, nilai rata-rata dari selisih antara setiap data dengan rata-rata\n",
    "- Min       : Nilai minimum, nilai terkecil dari semua data\n",
    "- 25%       : Nilai kuartil pertama, nilai yang membagi data menjadi 4 bagian yang sama besar, dan 25% data berada di bawah nilai ini\n",
    "- 50%       : Nilai kuartil kedua, nilai yang membagi data menjadi 2 bagian yang sama besar, dan 50% data berada di bawah nilai ini\n",
    "- 75%       : Nilai kuartil ketiga, nilai yang membagi data menjadi 4 bagian yang sama besar, dan 75% data berada di bawah nilai ini\n",
    "- Max       : Nilai maksimum, nilai terbesar dari semua data\n",
    "- Modus     : Nilai yang paling sering muncul\n",
    "- Variansi : Nilai rata-rata dari selisih kuadrat antara setiap data dengan rata-rata\n",
    "- Skewness : Nilai yang menunjukkan seberapa simetris distribusi data\n",
    "- Kurtosis : Nilai yang menunjukkan seberapa tajam puncak distribusi data"
   ]
  },
  {
   "cell_type": "code",
   "execution_count": 166,
   "metadata": {},
   "outputs": [
    {
     "data": {
      "text/html": [
       "<div>\n",
       "<style scoped>\n",
       "    .dataframe tbody tr th:only-of-type {\n",
       "        vertical-align: middle;\n",
       "    }\n",
       "\n",
       "    .dataframe tbody tr th {\n",
       "        vertical-align: top;\n",
       "    }\n",
       "\n",
       "    .dataframe thead th {\n",
       "        text-align: right;\n",
       "    }\n",
       "</style>\n",
       "<table border=\"1\" class=\"dataframe\">\n",
       "  <thead>\n",
       "    <tr style=\"text-align: right;\">\n",
       "      <th></th>\n",
       "      <th>fixed acidity</th>\n",
       "      <th>volatile acidity</th>\n",
       "      <th>citric acid</th>\n",
       "      <th>residual sugar</th>\n",
       "      <th>chlorides</th>\n",
       "      <th>free sulfur dioxide</th>\n",
       "      <th>total sulfur dioxide</th>\n",
       "      <th>density</th>\n",
       "      <th>pH</th>\n",
       "      <th>sulphates</th>\n",
       "      <th>alcohol</th>\n",
       "      <th>quality</th>\n",
       "    </tr>\n",
       "  </thead>\n",
       "  <tbody>\n",
       "    <tr>\n",
       "      <th>count</th>\n",
       "      <td>1000.000000</td>\n",
       "      <td>1000.000000</td>\n",
       "      <td>1000.000000</td>\n",
       "      <td>1000.000000</td>\n",
       "      <td>1000.000000</td>\n",
       "      <td>1000.000000</td>\n",
       "      <td>1000.000000</td>\n",
       "      <td>1000.000000</td>\n",
       "      <td>1000.000000</td>\n",
       "      <td>1000.000000</td>\n",
       "      <td>1000.000000</td>\n",
       "      <td>1000.000000</td>\n",
       "    </tr>\n",
       "    <tr>\n",
       "      <th>mean</th>\n",
       "      <td>7.152530</td>\n",
       "      <td>0.520839</td>\n",
       "      <td>0.270517</td>\n",
       "      <td>2.567104</td>\n",
       "      <td>0.081195</td>\n",
       "      <td>14.907679</td>\n",
       "      <td>40.290150</td>\n",
       "      <td>0.995925</td>\n",
       "      <td>3.303610</td>\n",
       "      <td>0.598390</td>\n",
       "      <td>10.592280</td>\n",
       "      <td>7.958000</td>\n",
       "    </tr>\n",
       "    <tr>\n",
       "      <th>std</th>\n",
       "      <td>1.201598</td>\n",
       "      <td>0.095848</td>\n",
       "      <td>0.049098</td>\n",
       "      <td>0.987915</td>\n",
       "      <td>0.020111</td>\n",
       "      <td>4.888100</td>\n",
       "      <td>9.965767</td>\n",
       "      <td>0.002020</td>\n",
       "      <td>0.104875</td>\n",
       "      <td>0.100819</td>\n",
       "      <td>1.510706</td>\n",
       "      <td>0.902802</td>\n",
       "    </tr>\n",
       "    <tr>\n",
       "      <th>min</th>\n",
       "      <td>3.320000</td>\n",
       "      <td>0.139900</td>\n",
       "      <td>0.116700</td>\n",
       "      <td>0.032555</td>\n",
       "      <td>0.015122</td>\n",
       "      <td>0.194679</td>\n",
       "      <td>3.150000</td>\n",
       "      <td>0.988800</td>\n",
       "      <td>2.970000</td>\n",
       "      <td>0.290000</td>\n",
       "      <td>6.030000</td>\n",
       "      <td>5.000000</td>\n",
       "    </tr>\n",
       "    <tr>\n",
       "      <th>25%</th>\n",
       "      <td>6.377500</td>\n",
       "      <td>0.456100</td>\n",
       "      <td>0.237800</td>\n",
       "      <td>1.896330</td>\n",
       "      <td>0.066574</td>\n",
       "      <td>11.426717</td>\n",
       "      <td>33.785000</td>\n",
       "      <td>0.994600</td>\n",
       "      <td>3.230000</td>\n",
       "      <td>0.530000</td>\n",
       "      <td>9.560000</td>\n",
       "      <td>7.000000</td>\n",
       "    </tr>\n",
       "    <tr>\n",
       "      <th>50%</th>\n",
       "      <td>7.150000</td>\n",
       "      <td>0.524850</td>\n",
       "      <td>0.272200</td>\n",
       "      <td>2.519430</td>\n",
       "      <td>0.082167</td>\n",
       "      <td>14.860346</td>\n",
       "      <td>40.190000</td>\n",
       "      <td>0.996000</td>\n",
       "      <td>3.300000</td>\n",
       "      <td>0.595000</td>\n",
       "      <td>10.610000</td>\n",
       "      <td>8.000000</td>\n",
       "    </tr>\n",
       "    <tr>\n",
       "      <th>75%</th>\n",
       "      <td>8.000000</td>\n",
       "      <td>0.585375</td>\n",
       "      <td>0.302325</td>\n",
       "      <td>3.220873</td>\n",
       "      <td>0.095312</td>\n",
       "      <td>18.313098</td>\n",
       "      <td>47.022500</td>\n",
       "      <td>0.997200</td>\n",
       "      <td>3.370000</td>\n",
       "      <td>0.670000</td>\n",
       "      <td>11.622500</td>\n",
       "      <td>9.000000</td>\n",
       "    </tr>\n",
       "    <tr>\n",
       "      <th>max</th>\n",
       "      <td>11.490000</td>\n",
       "      <td>0.805100</td>\n",
       "      <td>0.409600</td>\n",
       "      <td>5.550755</td>\n",
       "      <td>0.140758</td>\n",
       "      <td>27.462525</td>\n",
       "      <td>69.960000</td>\n",
       "      <td>1.002600</td>\n",
       "      <td>3.710000</td>\n",
       "      <td>0.960000</td>\n",
       "      <td>15.020000</td>\n",
       "      <td>10.000000</td>\n",
       "    </tr>\n",
       "    <tr>\n",
       "      <th>modus</th>\n",
       "      <td>6.540000</td>\n",
       "      <td>0.554600</td>\n",
       "      <td>0.301900</td>\n",
       "      <td>0.032555</td>\n",
       "      <td>0.015122</td>\n",
       "      <td>0.194679</td>\n",
       "      <td>35.200000</td>\n",
       "      <td>0.995900</td>\n",
       "      <td>3.340000</td>\n",
       "      <td>0.590000</td>\n",
       "      <td>9.860000</td>\n",
       "      <td>8.000000</td>\n",
       "    </tr>\n",
       "    <tr>\n",
       "      <th>variansi</th>\n",
       "      <td>1.443837</td>\n",
       "      <td>0.009187</td>\n",
       "      <td>0.002411</td>\n",
       "      <td>0.975977</td>\n",
       "      <td>0.000404</td>\n",
       "      <td>23.893519</td>\n",
       "      <td>99.316519</td>\n",
       "      <td>0.000004</td>\n",
       "      <td>0.010999</td>\n",
       "      <td>0.010164</td>\n",
       "      <td>2.282233</td>\n",
       "      <td>0.815051</td>\n",
       "    </tr>\n",
       "    <tr>\n",
       "      <th>range</th>\n",
       "      <td>8.170000</td>\n",
       "      <td>0.665200</td>\n",
       "      <td>0.292900</td>\n",
       "      <td>5.518200</td>\n",
       "      <td>0.125635</td>\n",
       "      <td>27.267847</td>\n",
       "      <td>66.810000</td>\n",
       "      <td>0.013800</td>\n",
       "      <td>0.740000</td>\n",
       "      <td>0.670000</td>\n",
       "      <td>8.990000</td>\n",
       "      <td>5.000000</td>\n",
       "    </tr>\n",
       "    <tr>\n",
       "      <th>IQR</th>\n",
       "      <td>1.622500</td>\n",
       "      <td>0.129275</td>\n",
       "      <td>0.064525</td>\n",
       "      <td>1.324544</td>\n",
       "      <td>0.028738</td>\n",
       "      <td>6.886381</td>\n",
       "      <td>13.237500</td>\n",
       "      <td>0.002600</td>\n",
       "      <td>0.140000</td>\n",
       "      <td>0.140000</td>\n",
       "      <td>2.062500</td>\n",
       "      <td>2.000000</td>\n",
       "    </tr>\n",
       "    <tr>\n",
       "      <th>skewness</th>\n",
       "      <td>-0.028879</td>\n",
       "      <td>-0.197699</td>\n",
       "      <td>-0.045576</td>\n",
       "      <td>0.132638</td>\n",
       "      <td>-0.051319</td>\n",
       "      <td>0.007130</td>\n",
       "      <td>-0.024060</td>\n",
       "      <td>-0.076883</td>\n",
       "      <td>0.147673</td>\n",
       "      <td>0.149199</td>\n",
       "      <td>-0.018991</td>\n",
       "      <td>-0.089054</td>\n",
       "    </tr>\n",
       "    <tr>\n",
       "      <th>kurtosis</th>\n",
       "      <td>-0.019292</td>\n",
       "      <td>0.161853</td>\n",
       "      <td>-0.104679</td>\n",
       "      <td>-0.042980</td>\n",
       "      <td>-0.246508</td>\n",
       "      <td>-0.364964</td>\n",
       "      <td>0.063950</td>\n",
       "      <td>0.016366</td>\n",
       "      <td>0.080910</td>\n",
       "      <td>0.064819</td>\n",
       "      <td>-0.131732</td>\n",
       "      <td>0.108291</td>\n",
       "    </tr>\n",
       "  </tbody>\n",
       "</table>\n",
       "</div>"
      ],
      "text/plain": [
       "          fixed acidity  volatile acidity  citric acid  residual sugar  \\\n",
       "count       1000.000000       1000.000000  1000.000000     1000.000000   \n",
       "mean           7.152530          0.520839     0.270517        2.567104   \n",
       "std            1.201598          0.095848     0.049098        0.987915   \n",
       "min            3.320000          0.139900     0.116700        0.032555   \n",
       "25%            6.377500          0.456100     0.237800        1.896330   \n",
       "50%            7.150000          0.524850     0.272200        2.519430   \n",
       "75%            8.000000          0.585375     0.302325        3.220873   \n",
       "max           11.490000          0.805100     0.409600        5.550755   \n",
       "modus          6.540000          0.554600     0.301900        0.032555   \n",
       "variansi       1.443837          0.009187     0.002411        0.975977   \n",
       "range          8.170000          0.665200     0.292900        5.518200   \n",
       "IQR            1.622500          0.129275     0.064525        1.324544   \n",
       "skewness      -0.028879         -0.197699    -0.045576        0.132638   \n",
       "kurtosis      -0.019292          0.161853    -0.104679       -0.042980   \n",
       "\n",
       "            chlorides  free sulfur dioxide  total sulfur dioxide      density  \\\n",
       "count     1000.000000          1000.000000           1000.000000  1000.000000   \n",
       "mean         0.081195            14.907679             40.290150     0.995925   \n",
       "std          0.020111             4.888100              9.965767     0.002020   \n",
       "min          0.015122             0.194679              3.150000     0.988800   \n",
       "25%          0.066574            11.426717             33.785000     0.994600   \n",
       "50%          0.082167            14.860346             40.190000     0.996000   \n",
       "75%          0.095312            18.313098             47.022500     0.997200   \n",
       "max          0.140758            27.462525             69.960000     1.002600   \n",
       "modus        0.015122             0.194679             35.200000     0.995900   \n",
       "variansi     0.000404            23.893519             99.316519     0.000004   \n",
       "range        0.125635            27.267847             66.810000     0.013800   \n",
       "IQR          0.028738             6.886381             13.237500     0.002600   \n",
       "skewness    -0.051319             0.007130             -0.024060    -0.076883   \n",
       "kurtosis    -0.246508            -0.364964              0.063950     0.016366   \n",
       "\n",
       "                   pH    sulphates      alcohol      quality  \n",
       "count     1000.000000  1000.000000  1000.000000  1000.000000  \n",
       "mean         3.303610     0.598390    10.592280     7.958000  \n",
       "std          0.104875     0.100819     1.510706     0.902802  \n",
       "min          2.970000     0.290000     6.030000     5.000000  \n",
       "25%          3.230000     0.530000     9.560000     7.000000  \n",
       "50%          3.300000     0.595000    10.610000     8.000000  \n",
       "75%          3.370000     0.670000    11.622500     9.000000  \n",
       "max          3.710000     0.960000    15.020000    10.000000  \n",
       "modus        3.340000     0.590000     9.860000     8.000000  \n",
       "variansi     0.010999     0.010164     2.282233     0.815051  \n",
       "range        0.740000     0.670000     8.990000     5.000000  \n",
       "IQR          0.140000     0.140000     2.062500     2.000000  \n",
       "skewness     0.147673     0.149199    -0.018991    -0.089054  \n",
       "kurtosis     0.080910     0.064819    -0.131732     0.108291  "
      ]
     },
     "execution_count": 166,
     "metadata": {},
     "output_type": "execute_result"
    }
   ],
   "source": [
    "data_stats = data.describe(include=[np.number])\n",
    "data_stats.loc['modus'] = data.mode().loc[0]\n",
    "data_stats.loc['std'] = data.std()\n",
    "data_stats.loc['variansi'] = data.var()\n",
    "data_stats.loc['range'] = data_stats.loc['max'] - data_stats.loc['min']\n",
    "data_stats.loc['IQR'] = data_stats.loc['75%'] - data_stats.loc['25%']\n",
    "data_stats.loc['skewness'] = data.skew()\n",
    "data_stats.loc['kurtosis'] = data.kurt()\n",
    "data_stats"
   ]
  },
  {
   "attachments": {},
   "cell_type": "markdown",
   "metadata": {},
   "source": [
    "# 2. Visualisasi Plot Distribusi"
   ]
  },
  {
   "attachments": {},
   "cell_type": "markdown",
   "metadata": {},
   "source": [
    "### 1. Fixed Acidity"
   ]
  },
  {
   "cell_type": "code",
   "execution_count": 167,
   "metadata": {},
   "outputs": [],
   "source": [
    "def distribution_plot(atr):\n",
    "    # create a new figure with two subplots\n",
    "    fig, (ax1, ax2) = plt.subplots(ncols=2, figsize=(12,6))\n",
    "\n",
    "    # plot the histogram of the data\n",
    "    sns.histplot(atr, ax=ax1)\n",
    "    ax1.set_title(\"Histogram\")\n",
    "    ax1.set_ylabel(\"frequency\")\n",
    "    ax1.set_xlabel(\"value\")\n",
    "\n",
    "    # plot the boxplot on the second subplot\n",
    "    ax2.boxplot(atr, vert=True, widths=0.5, patch_artist=True, boxprops=dict(facecolor='lightblue', color='black'), medianprops=dict(color='red'))\n",
    "    ax2.set_title('Boxplot')\n",
    "    ax2.set_xlabel('value')\n",
    "    ax2.yaxis.tick_right()\n",
    "\n",
    "    # display the plot\n",
    "    plt.suptitle(atr.name)\n",
    "    plt.show()"
   ]
  },
  {
   "cell_type": "code",
   "execution_count": 168,
   "metadata": {},
   "outputs": [
    {
     "data": {
      "image/png": "[encoded data removed]",
      "text/plain": [
       "<Figure size 864x432 with 2 Axes>"
      ]
     },
     "metadata": {
      "needs_background": "light"
     },
     "output_type": "display_data"
    }
   ],
   "source": [
    "distribution_plot(data['fixed acidity'])"
   ]
  },
  {
   "attachments": {},
   "cell_type": "markdown",
   "metadata": {},
   "source": [
    "Terlihat pada histogram, distribusi data ***fixed acidity*** terlihat memiliki puncak yang simetris, dan pada boxplot, garis median (Q2) berada di tengah IQR (selisih antara kuartil ketiga dan kuartil pertama). Maka dapat disimpulkan bahwa distribusi data cenderung bersifat ***normal***."
   ]
  },
  {
   "attachments": {},
   "cell_type": "markdown",
   "metadata": {},
   "source": [
    "### 2. Volatile Acidity"
   ]
  },
  {
   "cell_type": "code",
   "execution_count": 169,
   "metadata": {},
   "outputs": [
    {
     "data": {
      "image/png": "[encoded data removed]",
      "text/plain": [
       "<Figure size 864x432 with 2 Axes>"
      ]
     },
     "metadata": {
      "needs_background": "light"
     },
     "output_type": "display_data"
    }
   ],
   "source": [
    "distribution_plot(data['volatile acidity'])"
   ]
  },
  {
   "attachments": {},
   "cell_type": "markdown",
   "metadata": {},
   "source": [
    "Terlihat pada histogram, distribusi data ***volatile acidity*** terlihat memiliki puncak yang tidak simetris, dan pada boxplot, meskipun garis median (Q2) berada di tengah IQR (selisih antara kuartil ketiga dan kuartil pertama), visual tidak menunjukkan kenormalan. Maka dapat disimpulkan bahwa distribusi data cenderung bersifat ***tidak normal***."
   ]
  },
  {
   "attachments": {},
   "cell_type": "markdown",
   "metadata": {},
   "source": [
    "### 3. Citric Acid"
   ]
  },
  {
   "cell_type": "code",
   "execution_count": 170,
   "metadata": {},
   "outputs": [
    {
     "data": {
      "image/png": "[encoded data removed]",
      "text/plain": [
       "<Figure size 864x432 with 2 Axes>"
      ]
     },
     "metadata": {
      "needs_background": "light"
     },
     "output_type": "display_data"
    }
   ],
   "source": [
    "distribution_plot(data['citric acid'])"
   ]
  },
  {
   "attachments": {},
   "cell_type": "markdown",
   "metadata": {},
   "source": [
    "Terlihat pada histogram, distribusi data ***citric acid*** terlihat memiliki puncak yang simetris, dan pada boxplot, garis median (Q2) berada di tengah IQR (selisih antara kuartil ketiga dan kuartil pertama). Maka dapat disimpulkan bahwa distribusi data cenderung bersifat ***normal***."
   ]
  },
  {
   "attachments": {},
   "cell_type": "markdown",
   "metadata": {},
   "source": [
    "### 4. Residual Sugar"
   ]
  },
  {
   "cell_type": "code",
   "execution_count": 171,
   "metadata": {},
   "outputs": [
    {
     "data": {
      "image/png": "[encoded data removed]",
      "text/plain": [
       "<Figure size 864x432 with 2 Axes>"
      ]
     },
     "metadata": {
      "needs_background": "light"
     },
     "output_type": "display_data"
    }
   ],
   "source": [
    "distribution_plot(data['residual sugar'])"
   ]
  },
  {
   "attachments": {},
   "cell_type": "markdown",
   "metadata": {},
   "source": [
    "Terlihat pada histogram, distribusi data ***residual sugar*** terlihat memiliki puncak yang cukup simetris, dan pada boxplot, garis median (Q2) berada di tengah IQR (selisih antara kuartil ketiga dan kuartil pertama). Maka dapat disimpulkan bahwa distribusi data cenderung bersifat ***normal***."
   ]
  },
  {
   "attachments": {},
   "cell_type": "markdown",
   "metadata": {},
   "source": [
    "### 5. Chlorides"
   ]
  },
  {
   "cell_type": "code",
   "execution_count": 172,
   "metadata": {},
   "outputs": [
    {
     "data": {
      "image/png": "[encoded data removed]",
      "text/plain": [
       "<Figure size 864x432 with 2 Axes>"
      ]
     },
     "metadata": {
      "needs_background": "light"
     },
     "output_type": "display_data"
    }
   ],
   "source": [
    "distribution_plot(data['chlorides'])"
   ]
  },
  {
   "attachments": {},
   "cell_type": "markdown",
   "metadata": {},
   "source": [
    "Terlihat pada histogram, distribusi data ***chlorides*** terlihat memiliki puncak yang cukup simetris, dan pada boxplot, garis median (Q2) berada cukup di tengah IQR (selisih antara kuartil ketiga dan kuartil pertama). Maka dapat disimpulkan bahwa distribusi data cenderung bersifat ***normal***."
   ]
  },
  {
   "attachments": {},
   "cell_type": "markdown",
   "metadata": {},
   "source": [
    "### 6. Free Sulfur Dioxide"
   ]
  },
  {
   "cell_type": "code",
   "execution_count": 173,
   "metadata": {},
   "outputs": [
    {
     "data": {
      "image/png": "[encoded data removed]",
      "text/plain": [
       "<Figure size 864x432 with 2 Axes>"
      ]
     },
     "metadata": {
      "needs_background": "light"
     },
     "output_type": "display_data"
    }
   ],
   "source": [
    "distribution_plot(data['free sulfur dioxide'])"
   ]
  },
  {
   "attachments": {},
   "cell_type": "markdown",
   "metadata": {},
   "source": [
    "Terlihat pada histogram, distribusi data ***free sulfur dioxide*** memiliki puncak yang tidak simetris, dan pada boxplot, meskipun garis median (Q2) berada di tengah IQR (selisih antara kuartil ketiga dan kuartil pertama), secara visual dan outlier yang terbentuk, tidak cukup untuk dikatakan normal. Maka dapat disimpulkan bahwa distribusi data cenderung bersifat ***tidak normal***."
   ]
  },
  {
   "attachments": {},
   "cell_type": "markdown",
   "metadata": {},
   "source": [
    "### 7. Total Sulfur Dioxide"
   ]
  },
  {
   "cell_type": "code",
   "execution_count": 174,
   "metadata": {},
   "outputs": [
    {
     "data": {
      "image/png": "[encoded data removed]",
      "text/plain": [
       "<Figure size 864x432 with 2 Axes>"
      ]
     },
     "metadata": {
      "needs_background": "light"
     },
     "output_type": "display_data"
    }
   ],
   "source": [
    "distribution_plot(data['total sulfur dioxide'])"
   ]
  },
  {
   "attachments": {},
   "cell_type": "markdown",
   "metadata": {},
   "source": [
    "Terlihat pada histogram, distribusi data ***total sulfur dioxide*** terlihat memiliki puncak yang simetris, dan pada boxplot, garis median (Q2) berada di tengah IQR (selisih antara kuartil ketiga dan kuartil pertama). Maka dapat disimpulkan bahwa distribusi data cenderung bersifat ***normal***."
   ]
  },
  {
   "attachments": {},
   "cell_type": "markdown",
   "metadata": {},
   "source": [
    "### 8. Density"
   ]
  },
  {
   "cell_type": "code",
   "execution_count": 175,
   "metadata": {},
   "outputs": [
    {
     "data": {
      "image/png": "[encoded data removed]",
      "text/plain": [
       "<Figure size 864x432 with 2 Axes>"
      ]
     },
     "metadata": {
      "needs_background": "light"
     },
     "output_type": "display_data"
    }
   ],
   "source": [
    "distribution_plot(data['density'])"
   ]
  },
  {
   "attachments": {},
   "cell_type": "markdown",
   "metadata": {},
   "source": [
    "Terlihat pada histogram, distribusi data ***density*** terlihat memiliki puncak yang simetris, dan pada boxplot, garis median (Q2) berada di tengah IQR (selisih antara kuartil ketiga dan kuartil pertama). Maka dapat disimpulkan bahwa distribusi data cenderung bersifat ***normal***."
   ]
  },
  {
   "attachments": {},
   "cell_type": "markdown",
   "metadata": {},
   "source": [
    "### 9. pH"
   ]
  },
  {
   "cell_type": "code",
   "execution_count": 176,
   "metadata": {},
   "outputs": [
    {
     "data": {
      "image/png": "[encoded data removed]",
      "text/plain": [
       "<Figure size 864x432 with 2 Axes>"
      ]
     },
     "metadata": {
      "needs_background": "light"
     },
     "output_type": "display_data"
    }
   ],
   "source": [
    "distribution_plot(data['pH'])"
   ]
  },
  {
   "attachments": {},
   "cell_type": "markdown",
   "metadata": {},
   "source": [
    "Terlihat pada histogram, distribusi data ***pH*** terlihat memiliki puncak yang simetris, dan pada boxplot, garis median (Q2) berada di tengah IQR (selisih antara kuartil ketiga dan kuartil pertama). Maka dapat disimpulkan bahwa distribusi data cenderung bersifat ***normal***."
   ]
  },
  {
   "attachments": {},
   "cell_type": "markdown",
   "metadata": {},
   "source": [
    "### 10. Sulfates"
   ]
  },
  {
   "cell_type": "code",
   "execution_count": 177,
   "metadata": {},
   "outputs": [
    {
     "data": {
      "image/png": "[encoded data removed]",
      "text/plain": [
       "<Figure size 864x432 with 2 Axes>"
      ]
     },
     "metadata": {
      "needs_background": "light"
     },
     "output_type": "display_data"
    }
   ],
   "source": [
    "distribution_plot(data['sulphates'])"
   ]
  },
  {
   "attachments": {},
   "cell_type": "markdown",
   "metadata": {},
   "source": [
    "Terlihat pada histogram, distribusi data ***sulphates*** terlihat memiliki puncak yang simetris, dan pada boxplot, garis median (Q2) berada di tengah IQR (selisih antara kuartil ketiga dan kuartil pertama). Maka dapat disimpulkan bahwa distribusi data cenderung bersifat ***normal***."
   ]
  },
  {
   "attachments": {},
   "cell_type": "markdown",
   "metadata": {},
   "source": [
    "### 11. Alcohol"
   ]
  },
  {
   "cell_type": "code",
   "execution_count": 178,
   "metadata": {},
   "outputs": [
    {
     "data": {
      "image/png": "[encoded data removed]",
      "text/plain": [
       "<Figure size 864x432 with 2 Axes>"
      ]
     },
     "metadata": {
      "needs_background": "light"
     },
     "output_type": "display_data"
    }
   ],
   "source": [
    "distribution_plot(data['alcohol'])"
   ]
  },
  {
   "attachments": {},
   "cell_type": "markdown",
   "metadata": {},
   "source": [
    "Terlihat pada histogram, distribusi data ***alcohol*** terlihat memiliki puncak yang simetris, dan pada boxplot, garis median (Q2) berada di tengah IQR (selisih antara kuartil ketiga dan kuartil pertama). Maka dapat disimpulkan bahwa distribusi data cenderung bersifat ***normal***."
   ]
  },
  {
   "attachments": {},
   "cell_type": "markdown",
   "metadata": {},
   "source": [
    "### 12. Quality"
   ]
  },
  {
   "cell_type": "code",
   "execution_count": 179,
   "metadata": {},
   "outputs": [
    {
     "data": {
      "image/png": "[encoded data removed]",
      "text/plain": [
       "<Figure size 864x432 with 2 Axes>"
      ]
     },
     "metadata": {
      "needs_background": "light"
     },
     "output_type": "display_data"
    }
   ],
   "source": [
    "distribution_plot(data['quality'])"
   ]
  },
  {
   "attachments": {},
   "cell_type": "markdown",
   "metadata": {},
   "source": [
    "Terlihat pada histogram, distribusi data target ***quality*** terlihat memiliki puncak yang simetris, dan pada boxplot, garis median (Q2) berada di tengah IQR (selisih antara kuartil ketiga dan kuartil pertama). Maka dapat disimpulkan bahwa distribusi data cenderung bersifat ***normal***."
   ]
  },
  {
   "attachments": {},
   "cell_type": "markdown",
   "metadata": {},
   "source": [
    "# 3. Menentukan setiap kolom numerik berdistribusi normal atau tidak"
   ]
  },
  {
   "cell_type": "code",
   "execution_count": 180,
   "metadata": {},
   "outputs": [],
   "source": [
    "def normal_distribution_test(atr, alpha=0.05):\n",
    "    stat, p = normaltest(atr)\n",
    "    display(Markdown(f'Nilai p = ***{p}***'))\n",
    "    if p > alpha:\n",
    "        display(Markdown(f'Data ***{atr.name}*** Terdistribusi Normal'))\n",
    "    else:\n",
    "        display(Markdown(f'Data ***{atr.name}*** Tidak Terdistribusi Normal'))\n",
    "    \n",
    "    sns.histplot(atr, kde=True)\n",
    "    plt.xlabel('Values')\n",
    "    plt.ylabel('Frequency')\n",
    "    plt.show()"
   ]
  },
  {
   "cell_type": "code",
   "execution_count": 181,
   "metadata": {},
   "outputs": [
    {
     "data": {
      "text/markdown": [
       "Nilai p = ***0.9308584274486692***"
      ],
      "text/plain": [
       "<IPython.core.display.Markdown object>"
      ]
     },
     "metadata": {},
     "output_type": "display_data"
    },
    {
     "data": {
      "text/markdown": [
       "Data ***fixed acidity*** Terdistribusi Normal"
      ],
      "text/plain": [
       "<IPython.core.display.Markdown object>"
      ]
     },
     "metadata": {},
     "output_type": "display_data"
    },
    {
     "data": {
      "image/png": "[encoded data removed]",
      "text/plain": [
       "<Figure size 432x288 with 1 Axes>"
      ]
     },
     "metadata": {
      "needs_background": "light"
     },
     "output_type": "display_data"
    }
   ],
   "source": [
    "normal_distribution_test(data['fixed acidity'])"
   ]
  },
  {
   "cell_type": "code",
   "execution_count": 182,
   "metadata": {},
   "outputs": [
    {
     "data": {
      "text/markdown": [
       "Nilai p = ***0.022581461594113835***"
      ],
      "text/plain": [
       "<IPython.core.display.Markdown object>"
      ]
     },
     "metadata": {},
     "output_type": "display_data"
    },
    {
     "data": {
      "text/markdown": [
       "Data ***volatile acidity*** Tidak Terdistribusi Normal"
      ],
      "text/plain": [
       "<IPython.core.display.Markdown object>"
      ]
     },
     "metadata": {},
     "output_type": "display_data"
    },
    {
     "data": {
      "image/png": "[encoded data removed]",
      "text/plain": [
       "<Figure size 432x288 with 1 Axes>"
      ]
     },
     "metadata": {
      "needs_background": "light"
     },
     "output_type": "display_data"
    }
   ],
   "source": [
    "normal_distribution_test(data['volatile acidity'])"
   ]
  },
  {
   "cell_type": "code",
   "execution_count": 183,
   "metadata": {},
   "outputs": [
    {
     "data": {
      "text/markdown": [
       "Nilai p = ***0.6816899375976969***"
      ],
      "text/plain": [
       "<IPython.core.display.Markdown object>"
      ]
     },
     "metadata": {},
     "output_type": "display_data"
    },
    {
     "data": {
      "text/markdown": [
       "Data ***citric acid*** Terdistribusi Normal"
      ],
      "text/plain": [
       "<IPython.core.display.Markdown object>"
      ]
     },
     "metadata": {},
     "output_type": "display_data"
    },
    {
     "data": {
      "image/png": "[encoded data removed]",
      "text/plain": [
       "<Figure size 432x288 with 1 Axes>"
      ]
     },
     "metadata": {
      "needs_background": "light"
     },
     "output_type": "display_data"
    }
   ],
   "source": [
    "normal_distribution_test(data['citric acid'])"
   ]
  },
  {
   "cell_type": "code",
   "execution_count": 184,
   "metadata": {},
   "outputs": [
    {
     "data": {
      "text/markdown": [
       "Nilai p = ***0.22466703321310558***"
      ],
      "text/plain": [
       "<IPython.core.display.Markdown object>"
      ]
     },
     "metadata": {},
     "output_type": "display_data"
    },
    {
     "data": {
      "text/markdown": [
       "Data ***residual sugar*** Terdistribusi Normal"
      ],
      "text/plain": [
       "<IPython.core.display.Markdown object>"
      ]
     },
     "metadata": {},
     "output_type": "display_data"
    },
    {
     "data": {
      "image/png": "[encoded data removed]",
      "text/plain": [
       "<Figure size 432x288 with 1 Axes>"
      ]
     },
     "metadata": {
      "needs_background": "light"
     },
     "output_type": "display_data"
    }
   ],
   "source": [
    "normal_distribution_test(data['residual sugar'])"
   ]
  },
  {
   "cell_type": "code",
   "execution_count": 185,
   "metadata": {},
   "outputs": [
    {
     "data": {
      "text/markdown": [
       "Nilai p = ***0.17048274704296862***"
      ],
      "text/plain": [
       "<IPython.core.display.Markdown object>"
      ]
     },
     "metadata": {},
     "output_type": "display_data"
    },
    {
     "data": {
      "text/markdown": [
       "Data ***chlorides*** Terdistribusi Normal"
      ],
      "text/plain": [
       "<IPython.core.display.Markdown object>"
      ]
     },
     "metadata": {},
     "output_type": "display_data"
    },
    {
     "data": {
      "image/png": "[encoded data removed]",
      "text/plain": [
       "<Figure size 432x288 with 1 Axes>"
      ]
     },
     "metadata": {
      "needs_background": "light"
     },
     "output_type": "display_data"
    }
   ],
   "source": [
    "normal_distribution_test(data['chlorides'])"
   ]
  },
  {
   "cell_type": "code",
   "execution_count": 186,
   "metadata": {},
   "outputs": [
    {
     "data": {
      "text/markdown": [
       "Nilai p = ***0.01743043451827735***"
      ],
      "text/plain": [
       "<IPython.core.display.Markdown object>"
      ]
     },
     "metadata": {},
     "output_type": "display_data"
    },
    {
     "data": {
      "text/markdown": [
       "Data ***free sulfur dioxide*** Tidak Terdistribusi Normal"
      ],
      "text/plain": [
       "<IPython.core.display.Markdown object>"
      ]
     },
     "metadata": {},
     "output_type": "display_data"
    },
    {
     "data": {
      "image/png": "[encoded data removed]",
      "text/plain": [
       "<Figure size 432x288 with 1 Axes>"
      ]
     },
     "metadata": {
      "needs_background": "light"
     },
     "output_type": "display_data"
    }
   ],
   "source": [
    "normal_distribution_test(data['free sulfur dioxide'])"
   ]
  },
  {
   "cell_type": "code",
   "execution_count": 187,
   "metadata": {},
   "outputs": [
    {
     "data": {
      "text/markdown": [
       "Nilai p = ***0.8488846101395726***"
      ],
      "text/plain": [
       "<IPython.core.display.Markdown object>"
      ]
     },
     "metadata": {},
     "output_type": "display_data"
    },
    {
     "data": {
      "text/markdown": [
       "Data ***total sulfur dioxide*** Terdistribusi Normal"
      ],
      "text/plain": [
       "<IPython.core.display.Markdown object>"
      ]
     },
     "metadata": {},
     "output_type": "display_data"
    },
    {
     "data": {
      "image/png": "[encoded data removed]",
      "text/plain": [
       "<Figure size 432x288 with 1 Axes>"
      ]
     },
     "metadata": {
      "needs_background": "light"
     },
     "output_type": "display_data"
    }
   ],
   "source": [
    "normal_distribution_test(data['total sulfur dioxide'])"
   ]
  },
  {
   "cell_type": "code",
   "execution_count": 188,
   "metadata": {},
   "outputs": [
    {
     "data": {
      "text/markdown": [
       "Nilai p = ***0.5985227325531981***"
      ],
      "text/plain": [
       "<IPython.core.display.Markdown object>"
      ]
     },
     "metadata": {},
     "output_type": "display_data"
    },
    {
     "data": {
      "text/markdown": [
       "Data ***density*** Terdistribusi Normal"
      ],
      "text/plain": [
       "<IPython.core.display.Markdown object>"
      ]
     },
     "metadata": {},
     "output_type": "display_data"
    },
    {
     "data": {
      "image/png": "[encoded data removed]",
      "text/plain": [
       "<Figure size 432x288 with 1 Axes>"
      ]
     },
     "metadata": {
      "needs_background": "light"
     },
     "output_type": "display_data"
    }
   ],
   "source": [
    "normal_distribution_test(data['density'])"
   ]
  },
  {
   "cell_type": "code",
   "execution_count": 189,
   "metadata": {},
   "outputs": [
    {
     "data": {
      "text/markdown": [
       "Nilai p = ***0.13678740824860436***"
      ],
      "text/plain": [
       "<IPython.core.display.Markdown object>"
      ]
     },
     "metadata": {},
     "output_type": "display_data"
    },
    {
     "data": {
      "text/markdown": [
       "Data ***pH*** Terdistribusi Normal"
      ],
      "text/plain": [
       "<IPython.core.display.Markdown object>"
      ]
     },
     "metadata": {},
     "output_type": "display_data"
    },
    {
     "data": {
      "image/png": "[encoded data removed]",
      "text/plain": [
       "<Figure size 432x288 with 1 Axes>"
      ]
     },
     "metadata": {
      "needs_background": "light"
     },
     "output_type": "display_data"
    }
   ],
   "source": [
    "normal_distribution_test(data['pH'])"
   ]
  },
  {
   "cell_type": "code",
   "execution_count": 190,
   "metadata": {},
   "outputs": [
    {
     "data": {
      "text/markdown": [
       "Nilai p = ***0.13884318628391681***"
      ],
      "text/plain": [
       "<IPython.core.display.Markdown object>"
      ]
     },
     "metadata": {},
     "output_type": "display_data"
    },
    {
     "data": {
      "text/markdown": [
       "Data ***sulphates*** Terdistribusi Normal"
      ],
      "text/plain": [
       "<IPython.core.display.Markdown object>"
      ]
     },
     "metadata": {},
     "output_type": "display_data"
    },
    {
     "data": {
      "image/png": "[encoded data removed]",
      "text/plain": [
       "<Figure size 432x288 with 1 Axes>"
      ]
     },
     "metadata": {
      "needs_background": "light"
     },
     "output_type": "display_data"
    }
   ],
   "source": [
    "normal_distribution_test(data['sulphates'])"
   ]
  },
  {
   "cell_type": "code",
   "execution_count": 191,
   "metadata": {},
   "outputs": [
    {
     "data": {
      "text/markdown": [
       "Nilai p = ***0.6790884901361043***"
      ],
      "text/plain": [
       "<IPython.core.display.Markdown object>"
      ]
     },
     "metadata": {},
     "output_type": "display_data"
    },
    {
     "data": {
      "text/markdown": [
       "Data ***alcohol*** Terdistribusi Normal"
      ],
      "text/plain": [
       "<IPython.core.display.Markdown object>"
      ]
     },
     "metadata": {},
     "output_type": "display_data"
    },
    {
     "data": {
      "image/png": "[encoded data removed]",
      "text/plain": [
       "<Figure size 432x288 with 1 Axes>"
      ]
     },
     "metadata": {
      "needs_background": "light"
     },
     "output_type": "display_data"
    }
   ],
   "source": [
    "normal_distribution_test(data['alcohol'])"
   ]
  },
  {
   "cell_type": "code",
   "execution_count": 192,
   "metadata": {},
   "outputs": [
    {
     "data": {
      "text/markdown": [
       "Nilai p = ***0.3888139394184818***"
      ],
      "text/plain": [
       "<IPython.core.display.Markdown object>"
      ]
     },
     "metadata": {},
     "output_type": "display_data"
    },
    {
     "data": {
      "text/markdown": [
       "Data ***quality*** Terdistribusi Normal"
      ],
      "text/plain": [
       "<IPython.core.display.Markdown object>"
      ]
     },
     "metadata": {},
     "output_type": "display_data"
    },
    {
     "data": {
      "image/png": "[encoded data removed]",
      "text/plain": [
       "<Figure size 432x288 with 1 Axes>"
      ]
     },
     "metadata": {
      "needs_background": "light"
     },
     "output_type": "display_data"
    }
   ],
   "source": [
    "normal_distribution_test(data['quality'])"
   ]
  },
  {
   "attachments": {},
   "cell_type": "markdown",
   "metadata": {},
   "source": [
    "# 4. Melakukan test hipotesis 1 sampel"
   ]
  },
  {
   "attachments": {},
   "cell_type": "markdown",
   "metadata": {},
   "source": [
    "### a. Nilai rata-rata pH di atas 3.29?\n",
    "\n",
    "### Langkah-langkah pengujian:\n",
    "\n",
    "1. $H_0 : \\mu = 3.29$\n",
    "2. $H_1 : \\mu > 3.29$\n",
    "3. $\\alpha = 0.05$\n",
    "4. Uji statistik menggunakan uji Z karena ukuran data > 30\n",
    "\n",
    "### Hasil pengujian:"
   ]
  },
  {
   "cell_type": "code",
   "execution_count": 193,
   "metadata": {},
   "outputs": [
    {
     "name": "stdout",
     "output_type": "stream",
     "text": [
      "Z = 4.1037807933651145\n",
      "Z0 = 1.6448536269514722\n",
      "p_value = 2.0322630043302333e-05\n",
      "Z > Z0\n",
      "H0 ditolak\n",
      "p < alpha\n",
      "H0 ditolak\n"
     ]
    }
   ],
   "source": [
    "# Inisiasi Variabel\n",
    "var = 3.29\n",
    "alpha = 0.05\n",
    "pH_mean = data['pH'].mean()\n",
    "pH_std = data['pH'].std()\n",
    "n = data['pH'].count()\n",
    "\n",
    "# Menggunakan Uji Z karena data > 30\n",
    "Z0 = norm.ppf(1 - (alpha))\n",
    "Z = (pH_mean - var) / (pH_std / np.sqrt(n))\n",
    "p_value = norm.sf(abs(Z))\n",
    "\n",
    "# Hasil Akhir\n",
    "print(f\"Z = {Z}\")\n",
    "print(f\"Z0 = {Z0}\")\n",
    "print(f\"p_value = {p_value}\")\n",
    "if Z < Z0:\n",
    "    print(\"Z < Z0\")\n",
    "    print(\"H0 diterima\")\n",
    "else:\n",
    "    print(\"Z > Z0\")\n",
    "    print(\"H0 ditolak\")\n",
    "\n",
    "if p_value > alpha:\n",
    "    print(\"p > alpha\")\n",
    "    print(\"H0 diterima\")\n",
    "else:\n",
    "    print(\"p < alpha\")\n",
    "    print(\"H0 ditolak\")\n"
   ]
  },
  {
   "attachments": {},
   "cell_type": "markdown",
   "metadata": {},
   "source": [
    "### b. Nilai rata-rata Residual Sugar tidak sama dengan 2.50?\n",
    "\n",
    "### Langkah-langkah pengujian:\n",
    "\n",
    "1. $H_0 : \\mu = 2.50$\n",
    "2. $H_1 : \\mu \\neq 2.50$\n",
    "3. $\\alpha = 0.05$\n",
    "4. Uji statistik menggunakan uji Z karena ukuran data > 30\n",
    "\n",
    "### Hasil pengujian:"
   ]
  },
  {
   "cell_type": "code",
   "execution_count": 194,
   "metadata": {},
   "outputs": [
    {
     "name": "stdout",
     "output_type": "stream",
     "text": [
      "Z = 2.1479619435539523\n",
      "Z0 = 1.959963984540054\n",
      "p_value = 0.031716778818727434\n",
      "Z > Z0 atau Z < -Z0\n",
      "H0 ditolak\n",
      "p < alpha atau p > 1 - alpha\n",
      "H0 ditolak\n"
     ]
    }
   ],
   "source": [
    "# Inisiasi Variabel\n",
    "var = 2.5\n",
    "rs_mean = data['residual sugar'].mean()\n",
    "rs_std = data['residual sugar'].std()\n",
    "n = data['residual sugar'].count()\n",
    "\n",
    "# Menggunakan Uji Z karena data > 30\n",
    "Z0 = norm.ppf(1 - (alpha/2)) # /2 karena dua sisi\n",
    "Z = (rs_mean - var) / (rs_std / np.sqrt(n))\n",
    "p_value = norm.sf(abs(Z))*2\n",
    "\n",
    "# Hasil Akhir\n",
    "print(f\"Z = {Z}\")\n",
    "print(f\"Z0 = {Z0}\")\n",
    "print(f\"p_value = {p_value}\")\n",
    "if Z < Z0 and Z > -Z0:\n",
    "    print(\"Z < Z0 dan Z > -Z0\")\n",
    "    print(\"H0 diterima\")\n",
    "else:\n",
    "    print(\"Z > Z0 atau Z < -Z0\")\n",
    "    print(\"H0 ditolak\")\n",
    "\n",
    "if p_value > alpha and p_value < 1 - alpha:\n",
    "    print(\"p > alpha dan p < 1 - alpha\")\n",
    "    print(\"H0 diterima\")\n",
    "else:\n",
    "    print(\"p < alpha atau p > 1 - alpha\")\n",
    "    print(\"H0 ditolak\")"
   ]
  },
  {
   "attachments": {},
   "cell_type": "markdown",
   "metadata": {},
   "source": [
    "### c. Nilai rata-rata 150 baris pertama kolom sulphates bukan 0.65?\n",
    "\n",
    "### Langkah-langkah pengujian:\n",
    "\n",
    "1. $H_0 : \\mu = 0.65$\n",
    "2. $H_1 : \\mu \\neq 0.65$\n",
    "3. $\\alpha = 0.05$\n",
    "4. Uji statistik menggunakan uji Z karena ukuran data > 30\n",
    "\n",
    "### Hasil pengujian:"
   ]
  },
  {
   "cell_type": "code",
   "execution_count": 195,
   "metadata": {},
   "outputs": [
    {
     "name": "stdout",
     "output_type": "stream",
     "text": [
      "Z = -4.964843393315918\n",
      "Z0 = 1.959963984540054\n",
      "p_value = 6.875652918327359e-07\n",
      "Z > Z0 atau Z < -Z0\n",
      "H0 ditolak\n",
      "p < alpha atau p > 1 - alpha\n",
      "H0 ditolak\n"
     ]
    }
   ],
   "source": [
    "# Inisiasi Variabel \n",
    "var = 0.65\n",
    "sulphates_150 = data['sulphates'].head(150)\n",
    "sulphates_150_mean = sulphates_150.mean()\n",
    "sulphates_150_std = sulphates_150.std()\n",
    "n = 150\n",
    "\n",
    "# Menggunakan Uji Z karena data > 30\n",
    "Z0 = norm.ppf(1 - (alpha/2))\n",
    "Z = (sulphates_150_mean - var) / (sulphates_150_std / np.sqrt(n))\n",
    "p_value = norm.sf(abs(Z))*2\n",
    "\n",
    "# Hasil Akhir\n",
    "print(f\"Z = {Z}\")\n",
    "print(f\"Z0 = {Z0}\")\n",
    "print(f\"p_value = {p_value}\")\n",
    "if Z < Z0 and Z > -Z0:\n",
    "    print(\"Z < Z0 dan Z > -Z0\")\n",
    "    print(\"H0 diterima\")\n",
    "else:\n",
    "    print(\"Z > Z0 atau Z < -Z0\")\n",
    "    print(\"H0 ditolak\")\n",
    "    \n",
    "if p_value > alpha and p_value < 1 - alpha:\n",
    "    print(\"p > alpha dan p < 1 - alpha\")\n",
    "    print(\"H0 diterima\")\n",
    "else:\n",
    "    print(\"p < alpha atau p > 1 - alpha\")\n",
    "    print(\"H0 ditolak\")"
   ]
  },
  {
   "attachments": {},
   "cell_type": "markdown",
   "metadata": {},
   "source": [
    "### d. Nilai rata-rata total sulfur dioxide di bawah 35?\n",
    "\n",
    "1. $H_0 : \\mu = 35$\n",
    "2. $H_1 : \\mu < 35$\n",
    "3. $\\alpha = 0.05$\n",
    "4. Uji statistik menggunakan uji Z karena ukuran data > 30\n",
    "\n",
    "### Hasil pengujian:"
   ]
  },
  {
   "cell_type": "code",
   "execution_count": 196,
   "metadata": {},
   "outputs": [
    {
     "name": "stdout",
     "output_type": "stream",
     "text": [
      "Z = 16.786387372296744\n",
      "Z0 = 1.6448536269514722\n",
      "p_value = 1.5348545974086137e-63\n",
      "Z > Z0\n",
      "H0 diterima\n",
      "p < alpha\n",
      "H0 diterima\n"
     ]
    }
   ],
   "source": [
    "# Inisiasi Variabel\n",
    "var = 35\n",
    "total_sulfur_dioxide = data['total sulfur dioxide']\n",
    "total_sulfur_dioxide_mean = total_sulfur_dioxide.mean()\n",
    "total_sulfur_dioxide_std = total_sulfur_dioxide.std()\n",
    "n = total_sulfur_dioxide.count()\n",
    "# Menggunakan Uji Z karena data > 30\n",
    "Z0 = norm.ppf(1 - (alpha))\n",
    "Z = (total_sulfur_dioxide_mean - var) / (total_sulfur_dioxide_std / np.sqrt(n))\n",
    "p_value = norm.sf(abs(Z))\n",
    "\n",
    "# Hasil Akhir\n",
    "print(f\"Z = {Z}\")\n",
    "print(f\"Z0 = {Z0}\")\n",
    "print(f\"p_value = {p_value}\")\n",
    "\n",
    "if Z > Z0:\n",
    "    print(\"Z > Z0\")\n",
    "    print(\"H0 diterima\")\n",
    "else:\n",
    "    print(\"Z < Z0\")\n",
    "    print(\"H0 ditolak\")\n",
    "\n",
    "if p_value > alpha:\n",
    "    print(\"p > alpha\")\n",
    "    print(\"H0 ditolak\")\n",
    "else:\n",
    "    print(\"p < alpha\")\n",
    "    print(\"H0 diterima\")"
   ]
  },
  {
   "attachments": {},
   "cell_type": "markdown",
   "metadata": {},
   "source": [
    "### e. Proporsi nilai total Sulfat Dioxide yang lebih dari 40, adalah tidak sama dengan 50% ?\n",
    "\n",
    "1. $H_0 : p = 50%$\n",
    "2. $H_1 : p \\neq 50%$\n",
    "3. $\\alpha = 0.05$\n",
    "4. Uji statistik menggunakan uji Z karena ukuran data > 30\n",
    "\n",
    "### Hasil pengujian:"
   ]
  },
  {
   "cell_type": "code",
   "execution_count": 197,
   "metadata": {},
   "outputs": [
    {
     "name": "stdout",
     "output_type": "stream",
     "text": [
      "Z = 0.7589466384404118\n",
      "Z0 = 1.959963984540054\n",
      "p_value = 0.4478844782641115\n",
      "Z < Z0 dan Z > -Z0\n",
      "H0 diterima\n",
      "p > alpha dan p < 1 - alpha\n",
      "H0 diterima\n"
     ]
    }
   ],
   "source": [
    "# Inisiasi Variabel\n",
    "total_sulfur_dioxide = data.loc[data['total sulfur dioxide'] > 40, 'total sulfur dioxide']\n",
    "total_sulfur_dioxide_mean = total_sulfur_dioxide.mean()\n",
    "total_sulfur_dioxide_std = total_sulfur_dioxide.std()\n",
    "n = total_sulfur_dioxide.count()\n",
    "n_all = data['total sulfur dioxide'].count()\n",
    "\n",
    "# Menggunakan Uji Z karena data > 30\n",
    "p_count = n / n_all\n",
    "p_percent = 0.5\n",
    "q = 1 - p_percent\n",
    "\n",
    "Z = (p_count - p_percent) / np.sqrt(p_percent*q/n_all)\n",
    "Z0 = norm.ppf(1 - (alpha/2))\n",
    "\n",
    "p_value = norm.sf(abs(Z))*2\n",
    "\n",
    "# Hasil Akhir\n",
    "print(f\"Z = {Z}\")\n",
    "print(f\"Z0 = {Z0}\")\n",
    "print(f\"p_value = {p_value}\")\n",
    "if Z < Z0 and Z > -Z0:\n",
    "    print(\"Z < Z0 dan Z > -Z0\")\n",
    "    print(\"H0 diterima\")\n",
    "else:\n",
    "    print(\"Z > Z0 atau Z < -Z0\")\n",
    "    print(\"H0 ditolak\")\n",
    "    \n",
    "if p_value > alpha and p_value < 1 - alpha:\n",
    "    print(\"p > alpha dan p < 1 - alpha\")\n",
    "    print(\"H0 diterima\")\n",
    "else:\n",
    "    print(\"p < alpha atau p > 1 - alpha\")\n",
    "    print(\"H0 ditolak\")"
   ]
  },
  {
   "attachments": {},
   "cell_type": "markdown",
   "metadata": {},
   "source": [
    "# 5. Melakukan test hipotesis 2 sampel,"
   ]
  },
  {
   "attachments": {},
   "cell_type": "markdown",
   "metadata": {},
   "source": [
    "### a. Data kolom fixed acidity dibagi 2 sama rata: bagian awal dan bagian akhir kolom. Benarkah rata-rata kedua bagian tersebut sama?\n",
    "\n",
    "1. $H_0 : \\mu_{awal} - \\mu_{akhir} = 0 $\n",
    "2. $H_1 : \\mu_{awal} - \\mu_{akhir} \\neq 0$\n",
    "3. $\\alpha = 0.05$\n",
    "4. Uji statistik menggunakan uji Z karena ukuran data > 30\n",
    "\n",
    "### Hasil pengujian:"
   ]
  },
  {
   "cell_type": "code",
   "execution_count": 198,
   "metadata": {},
   "outputs": [
    {
     "name": "stdout",
     "output_type": "stream",
     "text": [
      "Z = 0.02604106999906379\n",
      "Z0 = 1.959963984540054\n",
      "p_value = 0.9792245804254097\n",
      "Z < Z0 dan Z > -Z0\n",
      "H0 diterima\n",
      "p < alpha atau p > 1 - alpha\n",
      "H0 ditolak\n"
     ]
    }
   ],
   "source": [
    "# Inisiasi Variabel\n",
    "fixed_acidity_head = data['fixed acidity'].head(data['fixed acidity'].count()//2)\n",
    "fixed_acidity_tail = data['fixed acidity'].tail(data['fixed acidity'].count()//2)\n",
    "head_count = fixed_acidity_head.count()\n",
    "tail_count = fixed_acidity_tail.count()\n",
    "head_mean = fixed_acidity_head.mean()\n",
    "tail_mean = fixed_acidity_tail.mean()\n",
    "head_std = fixed_acidity_head.std()\n",
    "tail_std = fixed_acidity_tail.std()\n",
    "head_variance = fixed_acidity_head.var()\n",
    "tail_variance = fixed_acidity_tail.var()\n",
    "\n",
    "# Menggunakan Uji Z karena data > 30\n",
    "Z0 = norm.ppf(1 - (alpha/2))\n",
    "Z = (head_mean - tail_mean) / np.sqrt((head_variance/head_count) + (tail_variance/tail_count))\n",
    "p_value = norm.sf(abs(Z))*2\n",
    "\n",
    "print(f\"Z = {Z}\")\n",
    "print(f\"Z0 = {Z0}\")\n",
    "print(f\"p_value = {p_value}\")\n",
    "if Z < Z0 and Z > -Z0:\n",
    "    print(\"Z < Z0 dan Z > -Z0\")\n",
    "    print(\"H0 diterima\")\n",
    "else:\n",
    "    print(\"Z > Z0 atau Z < -Z0\")\n",
    "    print(\"H0 ditolak\")\n",
    "\n",
    "if p_value > alpha and p_value < 1 - alpha:\n",
    "    print(\"p > alpha dan p < 1 - alpha\")\n",
    "    print(\"H0 diterima\")\n",
    "else:\n",
    "    print(\"p < alpha atau p > 1 - alpha\")\n",
    "    print(\"H0 ditolak\")"
   ]
  },
  {
   "attachments": {},
   "cell_type": "markdown",
   "metadata": {},
   "source": [
    "### b. Data kolom chlorides dibagi 2 sama rata: bagian awal dan bagian akhir kolom. Benarkah rata-rata bagian awal lebih besar daripada bagian akhir sebesar 0.001?\n",
    "\n",
    "1. $H_0 : \\mu_s - \\mu_e = 0.001 $\n",
    "2. $H_1 : \\mu_s - \\mu_e \\neq 0.001$\n",
    "3. $\\alpha = 0.05$\n",
    "4. Uji statistik menggunakan uji Z karena ukuran data > 30\n",
    "\n",
    "### Hasil pengujian:"
   ]
  },
  {
   "cell_type": "code",
   "execution_count": 199,
   "metadata": {},
   "outputs": [
    {
     "name": "stdout",
     "output_type": "stream",
     "text": [
      "Z = -0.4731044883927298\n",
      "Z0 = 1.959963984540054\n",
      "p_value = 0.6361386347409888\n",
      "Z < Z0 dan Z > -Z0\n",
      "H0 diterima\n",
      "p > alpha dan p < 1 - alpha\n",
      "H0 diterima\n"
     ]
    }
   ],
   "source": [
    "# H0 : mean_awal = mean_akhir + 0.001\n",
    "# H1 : mean_awal != mean_akhir + 0.001\n",
    "\n",
    "# Inisiasi Variabel\n",
    "delta = 0.001\n",
    "chloride_head = data['chlorides'].head(data['chlorides'].count()//2)\n",
    "chloride_tail = data['chlorides'].tail(data['chlorides'].count()//2)\n",
    "head_count = chloride_head.count()\n",
    "tail_count = chloride_tail.count()\n",
    "head_mean = chloride_head.mean()\n",
    "tail_mean = chloride_tail.mean()\n",
    "chlorides_std = data['chlorides'].std()\n",
    "\n",
    "# Menggunakan Uji Z karena data > 30\n",
    "Z0 = norm.ppf(1 - (alpha/2)) # /2 karena dua sisi\n",
    "Z = (head_mean - tail_mean - delta) / (chlorides_std / np.sqrt(n//2))\n",
    "p_value = norm.sf(abs(Z))*2\n",
    "\n",
    "# Hasil Akhir\n",
    "print(f\"Z = {Z}\")\n",
    "print(f\"Z0 = {Z0}\")\n",
    "print(f\"p_value = {p_value}\")\n",
    "if Z < Z0 and Z > -Z0:\n",
    "    print(\"Z < Z0 dan Z > -Z0\")\n",
    "    print(\"H0 diterima\")\n",
    "else:\n",
    "    print(\"Z > Z0 atau Z < -Z0\")\n",
    "    print(\"H0 ditolak\")\n",
    "\n",
    "if p_value > alpha and p_value < 1 - alpha:\n",
    "    print(\"p > alpha dan p < 1 - alpha\")\n",
    "    print(\"H0 diterima\")\n",
    "else:\n",
    "    print(\"p < alpha atau p > 1 - alpha\")\n",
    "    print(\"H0 ditolak\")\n"
   ]
  },
  {
   "attachments": {},
   "cell_type": "markdown",
   "metadata": {},
   "source": [
    "### c. Benarkah rata-rata sampel 25 baris pertama kolom Volatile Acidity sama dengan rata-rata 25 baris pertama kolom Sulphates ?\n",
    "\n",
    "1. $H_0 : \\mu_{va} - \\mu_s = 0 $\n",
    "2. $H_1 : \\mu_{va} - \\mu_s \\neq 0$\n",
    "3. $\\alpha = 0.05$\n",
    "4. Uji statistik menggunakan uji t karena ukuran data $\\leq$ 30\n",
    "\n",
    "### Hasil pengujian:"
   ]
  },
  {
   "cell_type": "code",
   "execution_count": 200,
   "metadata": {},
   "outputs": [
    {
     "name": "stdout",
     "output_type": "stream",
     "text": [
      "t0 = 2.0106347546964454\n",
      "t = -2.6374821676748703\n",
      "p_value = 0.011223058174680032\n",
      "t > t0 atau t < -t0\n",
      "H0 ditolak\n",
      "p < alpha2 atau p > 1 - alpha\n",
      "H0 ditolak\n"
     ]
    }
   ],
   "source": [
    "# Inisiasi Variabel\n",
    "volatile_acidity_head = data['volatile acidity'].head(25)\n",
    "volatile_acidity_head_count = volatile_acidity_head.count()\n",
    "volatile_acidity_head_mean = volatile_acidity_head.mean()\n",
    "volatile_acidity_head_std = volatile_acidity_head.std()\n",
    "volatile_acidity_head_variance = volatile_acidity_head.var()\n",
    "\n",
    "sulphates_head = data['sulphates'].head(25)\n",
    "sulphates_head_count = sulphates_head.count()\n",
    "sulphates_head_mean = sulphates_head.mean()\n",
    "sulphates_head_std = sulphates_head.std()\n",
    "sulphates_head_variance = sulphates_head.var()\n",
    "\n",
    "# Menggunakan Uji t karena data < 30\n",
    "dk = volatile_acidity_head_count + sulphates_head_count - 2\n",
    "t0 = t.ppf(1 - alpha/2, dk)\n",
    "t_uji = (volatile_acidity_head_mean - sulphates_head_mean) / (np.sqrt((volatile_acidity_head_variance*(volatile_acidity_head_count-1) + sulphates_head_variance*(sulphates_head_count-1))/dk) * np.sqrt((1/volatile_acidity_head_count) + (1/sulphates_head_count)))\n",
    "p_value = t.sf(abs(t_uji), dk) * 2\n",
    "\n",
    "print(f\"t0 = {t0}\")\n",
    "print(f\"t = {t_uji}\")\n",
    "print(f\"p_value = {p_value}\")\n",
    "if t_uji < t0 and t_uji > -t0:\n",
    "    print(\"t < t0 dan t > -t0\")\n",
    "    print(\"H0 diterima\")\n",
    "else:\n",
    "    print(\"t > t0 atau t < -t0\")\n",
    "    print(\"H0 ditolak\")\n",
    "\n",
    "if p_value > alpha and p_value < 1 - alpha:\n",
    "    print(\"p > alpha dan p < 1 - alpha\")\n",
    "    print(\"H0 diterima\")\n",
    "else:\n",
    "    print(\"p < alpha2 atau p > 1 - alpha\")\n",
    "    print(\"H0 ditolak\")"
   ]
  },
  {
   "attachments": {},
   "cell_type": "markdown",
   "metadata": {},
   "source": [
    "### d. Bagian awal kolom residual sugar memiliki variansi yang sama dengan bagian akhirnya?\n",
    "\n",
    "1. $H_0 : \\sigma^2_{awal} - \\sigma^2_{akhir} = 0 $\n",
    "2. $H_1 : \\sigma^2_{awal} - \\sigma^2_{akhir} \\neq 0$\n",
    "3. $\\alpha = 0.05$\n",
    "4. Uji statistik menggunakan uji f karena yang akan diuji adalah variansi\n",
    "\n",
    "### Hasil pengujian:"
   ]
  },
  {
   "cell_type": "code",
   "execution_count": 201,
   "metadata": {},
   "outputs": [
    {
     "name": "stdout",
     "output_type": "stream",
     "text": [
      "F(alpha)(499, 499) = 1.1920574017201653\n",
      "F(1-alpha)(499, 499) = 0.8388857772763105\n",
      "f = 0.9420041066941615\n",
      "F > F(1-alpha)(499, 499) dan F < F(alpha)(499, 499)\n",
      "H0 diterima\n"
     ]
    }
   ],
   "source": [
    "# Inisiasi Variabel\n",
    "residual_sugar_head = data['residual sugar'].head(data['residual sugar'].count()//2)\n",
    "residual_sugar_tail = data['residual sugar'].tail(data['residual sugar'].count()//2)\n",
    "head_count = residual_sugar_head.count()\n",
    "tail_count = residual_sugar_tail.count()\n",
    "head_mean = residual_sugar_head.mean()\n",
    "tail_mean = residual_sugar_tail.mean()\n",
    "head_std = residual_sugar_head.std()\n",
    "tail_std = residual_sugar_tail.std()\n",
    "head_variance = residual_sugar_head.var()\n",
    "tail_variance = residual_sugar_tail.var()\n",
    "head_dk = head_count - 1\n",
    "tail_dk = tail_count - 1\n",
    "\n",
    "# Menggunakan uji f\n",
    "Falpha = f.ppf(q=1-alpha/2, dfn=head_dk, dfd=tail_dk)\n",
    "F1minalpha = f.ppf(q=alpha/2, dfn=head_dk, dfd=tail_dk)\n",
    "F = head_variance/tail_variance\n",
    "\n",
    "print(f\"F(alpha){head_dk, tail_dk} = {Falpha}\")\n",
    "print(f\"F(1-alpha){head_dk, tail_dk} = {F1minalpha}\")\n",
    "print(f\"f = {F}\")\n",
    "\n",
    "# Hasil Akhir\n",
    "if F > F1minalpha and F < Falpha:\n",
    "    print(f\"F > F(1-alpha){head_dk, tail_dk} dan F < F(alpha){head_dk, tail_dk}\")\n",
    "    print(\"H0 diterima\")\n",
    "else:\n",
    "    print(f\"F < F(1-alpha){head_dk, tail_dk} atau F > F(alpha){head_dk, tail_dk}\")\n",
    "    print(\"H0 ditolak\")\n",
    "\n"
   ]
  },
  {
   "attachments": {},
   "cell_type": "markdown",
   "metadata": {},
   "source": [
    "### e. Proporsi nilai setengah bagian awal alcohol yang lebih dari 7, adalah lebih besar daripada, proporsi nilai yang sama di setengah bagian akhir alcohol?\n",
    "\n",
    "1. $H_0 : p_{awal} - p_{akhir} = 0 $\n",
    "2. $H_1 : p_{awal} - p_{akhir} > 0$\n",
    "3. $\\alpha = 0.05$\n",
    "4. Uji statistik menggunakan uji Z karena ukuran data > 30\n",
    "\n",
    "### Hasil pengujian:"
   ]
  },
  {
   "cell_type": "code",
   "execution_count": 202,
   "metadata": {},
   "outputs": [
    {
     "name": "stdout",
     "output_type": "stream",
     "text": [
      "Z = 0.0\n",
      "nilai p = 0.5\n",
      "p > alpha\n",
      "H0 diterima\n"
     ]
    }
   ],
   "source": [
    "# Inisiasi Variabel\n",
    "alcohol_awal = data.head(500).loc[data['alcohol'] > 7, 'alcohol']\n",
    "alcohol_mean_awal = alcohol_awal.mean()\n",
    "alcohol_std_awal = alcohol_awal.std()\n",
    "n_awal = alcohol_awal.count()\n",
    "n_all_awal = data['alcohol'].head(500).count()\n",
    "\n",
    "alcohol_akhir = data.tail(500).loc[data['alcohol'] > 7, 'alcohol']\n",
    "alcohol_mean_akhir = alcohol_akhir.mean()\n",
    "alcohol_std_akhir = alcohol_akhir.std()\n",
    "n_akhir = alcohol_akhir.count()\n",
    "n_all_akhir = data['alcohol'].tail(500).count()\n",
    "\n",
    "# Menggunakan Uji Z karena data > 30\n",
    "p_awal = n_awal/n_all_awal\n",
    "p_akhir = n_akhir/n_all_akhir\n",
    "p = (n_awal+n_akhir)/(n_all_awal+n_all_akhir)\n",
    "q = 1-p\n",
    "Z = (p_awal - p_akhir)/(np.sqrt(p * q * (1/n_all_awal + 1/n_all_akhir)))\n",
    "p_value = norm.sf(abs(Z))\n",
    "print(f\"Z = {Z}\")\n",
    "print(f'nilai p = {p_value}')\n",
    "if(p_value < alpha):\n",
    "    print(\"p < alpha\")\n",
    "    print(\"H0 ditolak\")\n",
    "else:\n",
    "    print(\"p > alpha\")\n",
    "    print(\"H0 diterima\")"
   ]
  },
  {
   "attachments": {},
   "cell_type": "markdown",
   "metadata": {},
   "source": [
    "# Table"
   ]
  },
  {
   "cell_type": "code",
   "execution_count": 203,
   "metadata": {},
   "outputs": [
    {
     "name": "stdout",
     "output_type": "stream",
     "text": [
      "     fixed acidity  volatile acidity  citric acid  residual sugar  chlorides  \\\n",
      "0             5.90            0.4451       0.1813        2.049401   0.070574   \n",
      "1             8.40            0.5768       0.2099        3.109590   0.101681   \n",
      "2             7.54            0.5918       0.3248        3.673744   0.072416   \n",
      "3             5.39            0.4201       0.3131        3.371815   0.072755   \n",
      "4             6.51            0.5675       0.1940        4.404723   0.066379   \n",
      "..             ...               ...          ...             ...        ...   \n",
      "995           7.96            0.6046       0.2662        1.592048   0.057555   \n",
      "996           8.48            0.4080       0.2227        0.681955   0.051627   \n",
      "997           6.11            0.4841       0.3720        2.377267   0.042806   \n",
      "998           7.76            0.3590       0.3208        4.294486   0.098276   \n",
      "999           5.87            0.5214       0.1883        2.179490   0.052923   \n",
      "\n",
      "     free sulfur dioxide  total sulfur dioxide  density    pH  sulphates  \\\n",
      "0              16.593818                 42.27   0.9982  3.27       0.71   \n",
      "1              22.555519                 16.01   0.9960  3.35       0.57   \n",
      "2               9.316866                 35.52   0.9990  3.31       0.64   \n",
      "3              18.212300                 41.97   0.9945  3.34       0.55   \n",
      "4               9.360591                 46.27   0.9925  3.27       0.45   \n",
      "..                   ...                   ...      ...   ...        ...   \n",
      "995            14.892445                 44.61   0.9975  3.35       0.54   \n",
      "996            23.548965                 25.83   0.9972  3.41       0.46   \n",
      "997            21.624585                 48.75   0.9928  3.23       0.55   \n",
      "998            12.746186                 44.53   0.9952  3.30       0.66   \n",
      "999            16.203864                 24.37   0.9983  3.29       0.70   \n",
      "\n",
      "     alcohol  quality  \n",
      "0       8.64        7  \n",
      "1      10.03        8  \n",
      "2       9.23        8  \n",
      "3      14.07        9  \n",
      "4      11.49        8  \n",
      "..       ...      ...  \n",
      "995    10.41        8  \n",
      "996     9.91        8  \n",
      "997     9.94        7  \n",
      "998     9.76        8  \n",
      "999    10.17        7  \n",
      "\n",
      "[1000 rows x 12 columns]\n"
     ]
    }
   ],
   "source": [
    "df = pd.DataFrame(data)\n",
    "\n",
    "# print the DataFrame as a table\n",
    "print(df)"
   ]
  }
 ],
 "metadata": {
  "kernelspec": {
   "display_name": "Python 3",
   "language": "python",
   "name": "python3"
  },
  "language_info": {
   "codemirror_mode": {
    "name": "ipython",
    "version": 3
   },
   "file_extension": ".py",
   "mimetype": "text/x-python",
   "name": "python",
   "nbconvert_exporter": "python",
   "pygments_lexer": "ipython3",
   "version": "3.9.9"
  },
  "orig_nbformat": 4,
  "vscode": {
   "interpreter": {
    "hash": "6931a9a621d8ff6d07958d162f21a10a58d4e8c949ccb5bafc32b10cd7b79477"
   }
  }
 },
 "nbformat": 4,
 "nbformat_minor": 2
}
