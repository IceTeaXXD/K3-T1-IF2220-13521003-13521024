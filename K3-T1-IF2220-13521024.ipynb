{
 "cells": [
  {
   "cell_type": "code",
   "execution_count": null,
   "metadata": {},
   "outputs": [],
   "source": [
    "import pandas as pd\n",
    "import matplotlib.pyplot as plt\n",
    "data = pd.read_csv('anggur.csv')"
   ]
  },
  {
   "attachments": {},
   "cell_type": "markdown",
   "metadata": {},
   "source": [
    "# Nomor 1"
   ]
  },
  {
   "cell_type": "code",
   "execution_count": null,
   "metadata": {},
   "outputs": [],
   "source": [
    "for atr in data.columns:\n",
    "    print(f\"Atribut : {atr}\")\n",
    "    print(f\"Mean : {data[atr].mean()}\")\n",
    "    print(f\"Median : {data[atr].median()}\")\n",
    "    print(f\"Modus :\\n    Nilai : {data[atr].mode()[0]} \\n    Frekuensi : {data[atr].value_counts()[data[atr].mode()[0]]}\")\n",
    "    print(f\"Standar Deviasi : {data[atr].std()}\")\n",
    "    print(f\"Variansi : {data[atr].var()}\")\n",
    "    print(f\"Range : {data[atr].max() - data[atr].min()}\")\n",
    "    print(f\"Nilai Minimum : {data[atr].min()}\")\n",
    "    print(f\"Nilai Maksimum : {data[atr].max()}\")\n",
    "    print(f\"Kuartil 1 : {data[atr].quantile(0.25)}\")\n",
    "    print(f\"Kuartil 2 : {data[atr].quantile(0.5)}\")\n",
    "    print(f\"Kuartil 3 : {data[atr].quantile(0.75)}\")\n",
    "    print(f\"IQR : {data[atr].quantile(0.75) - data[atr].quantile(0.25)}\")\n",
    "    print(f\"Skewness : {data[atr].skew()}\")\n",
    "    print(f\"Kurtosis : {data[atr].kurt()}\")\n",
    "    print(\"\\n\\n\")"
   ]
  },
  {
   "attachments": {},
   "cell_type": "markdown",
   "metadata": {},
   "source": [
    "# Nomor 2"
   ]
  },
  {
   "cell_type": "code",
   "execution_count": null,
   "metadata": {},
   "outputs": [],
   "source": [
    "for atr in data.columns:\n",
    "    col = data[atr]\n",
    "    plt.hist(col, bins = 250)\n",
    "    plt.title(atr)\n",
    "    plt.ylabel(\"frequency\")\n",
    "    plt.xlabel(\"value\")\n",
    "    plt.show()\n",
    "    plt.boxplot(col)\n",
    "    plt.title(atr)\n",
    "    plt.show()\n",
    "    print(\"\\n\")\n",
    "    print(\"\\n\")"
   ]
  },
  {
   "cell_type": "code",
   "execution_count": null,
   "metadata": {},
   "outputs": [],
   "source": []
  }
 ],
 "metadata": {
  "kernelspec": {
   "display_name": "Python 3",
   "language": "python",
   "name": "python3"
  },
  "language_info": {
   "codemirror_mode": {
    "name": "ipython",
    "version": 3
   },
   "file_extension": ".py",
   "mimetype": "text/x-python",
   "name": "python",
   "nbconvert_exporter": "python",
   "pygments_lexer": "ipython3",
   "version": "3.11.2"
  },
  "orig_nbformat": 4,
  "vscode": {
   "interpreter": {
    "hash": "6931a9a621d8ff6d07958d162f21a10a58d4e8c949ccb5bafc32b10cd7b79477"
   }
  }
 },
 "nbformat": 4,
 "nbformat_minor": 2
}
