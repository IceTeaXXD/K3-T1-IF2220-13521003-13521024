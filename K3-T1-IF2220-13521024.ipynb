{
 "cells": [
  {
   "cell_type": "code",
   "execution_count": null,
   "metadata": {},
   "outputs": [],
   "source": [
    "import pandas as pd\n",
    "import matplotlib.pyplot as plt\n",
    "from scipy.stats import norm\n",
    "import scipy.stats as stats\n",
    "import numpy as np\n",
    "data = pd.read_csv('anggur.csv')"
   ]
  },
  {
   "attachments": {},
   "cell_type": "markdown",
   "metadata": {},
   "source": [
    "# Nomor 1"
   ]
  },
  {
   "cell_type": "code",
   "execution_count": null,
   "metadata": {},
   "outputs": [],
   "source": [
    "for atr in data.columns:\n",
    "    print(f\"Atribut : {atr}\")\n",
    "    print(f\"Mean : {data[atr].mean()}\")\n",
    "    print(f\"Median : {data[atr].median()}\")\n",
    "    print(f\"Modus :\\n    Nilai : {data[atr].mode()[0]} \\n    Frekuensi : {data[atr].value_counts()[data[atr].mode()[0]]}\")\n",
    "    print(f\"Standar Deviasi : {data[atr].std()}\")\n",
    "    print(f\"Variansi : {data[atr].var()}\")\n",
    "    print(f\"Range : {data[atr].max() - data[atr].min()}\")\n",
    "    print(f\"Nilai Minimum : {data[atr].min()}\")\n",
    "    print(f\"Nilai Maksimum : {data[atr].max()}\")\n",
    "    print(f\"Kuartil 1 : {data[atr].quantile(0.25)}\")\n",
    "    print(f\"Kuartil 2 : {data[atr].quantile(0.5)}\")\n",
    "    print(f\"Kuartil 3 : {data[atr].quantile(0.75)}\")\n",
    "    print(f\"IQR : {data[atr].quantile(0.75) - data[atr].quantile(0.25)}\")\n",
    "    print(f\"Skewness : {data[atr].skew()}\")\n",
    "    print(f\"Kurtosis : {data[atr].kurt()}\")\n",
    "    print(\"\\n\\n\")"
   ]
  },
  {
   "attachments": {},
   "cell_type": "markdown",
   "metadata": {},
   "source": [
    "# Nomor 2"
   ]
  },
  {
   "cell_type": "code",
   "execution_count": null,
   "metadata": {},
   "outputs": [],
   "source": [
    "for atr in data.columns:\n",
    "    # create a new figure with two subplots\n",
    "    fig, (ax1, ax2) = plt.subplots(ncols=2, figsize=(10,4))\n",
    "    \n",
    "    # plot the histogram on the first subplot\n",
    "    col = data[atr]\n",
    "    ax1.hist(col, bins=100)\n",
    "    ax1.set_ylabel(\"frequency\")\n",
    "    ax1.set_xlabel(\"value\")\n",
    "    \n",
    "    # plot the boxplot on the second subplot\n",
    "    ax2.boxplot(col)\n",
    "    \n",
    "    # add a title for both subplots\n",
    "    plt.suptitle(atr)\n",
    "    \n",
    "    # display the figure\n",
    "    plt.show()"
   ]
  },
  {
   "attachments": {},
   "cell_type": "markdown",
   "metadata": {},
   "source": [
    "# Nomor 3"
   ]
  },
  {
   "cell_type": "code",
   "execution_count": null,
   "metadata": {},
   "outputs": [],
   "source": [
    "for atr in data.columns:\n",
    "    col = data[atr]\n",
    "    plt.hist(col, bins = 100, density=True)\n",
    "    plt.title(atr)\n",
    "    mu, std = norm.fit(col)\n",
    "    xmin, xmax = plt.xlim()\n",
    "    x = np.linspace(xmin, xmax, 100)\n",
    "    p = norm.pdf(x, mu, std)\n",
    "    plt.plot(x, p, 'k', linewidth=2, alpha = 0.5)\n",
    "    plt.xlabel('Values')\n",
    "    plt.ylabel('Probability Density Function')\n",
    "    plt.show()"
   ]
  },
  {
   "attachments": {},
   "cell_type": "markdown",
   "metadata": {},
   "source": [
    "# Nomor 4"
   ]
  },
  {
   "attachments": {},
   "cell_type": "markdown",
   "metadata": {},
   "source": [
    "### a. Nilai rata-rata pH di atas 3.29?"
   ]
  },
  {
   "cell_type": "code",
   "execution_count": null,
   "metadata": {},
   "outputs": [],
   "source": [
    "# Inisiasi Variabel\n",
    "var = 3.29\n",
    "alpha = 0.05\n",
    "pH_mean = data['pH'].mean()\n",
    "pH_std = data['pH'].std()\n",
    "n = data['pH'].count()\n",
    "\n",
    "# Menggunakan Uji Z karena data > 30\n",
    "Z0 = norm.ppf(1 - (alpha))\n",
    "Z = (pH_mean - var) / (pH_std / np.sqrt(n))\n",
    "p_value = norm.sf(Z)\n",
    "\n",
    "# Hasil Akhir\n",
    "print(f\"Z = {Z}\")\n",
    "print(f\"Z0 = {Z0}\")\n",
    "print(f\"p_value = {p_value}\")\n",
    "if Z < Z0:\n",
    "    print(\"Z < Z0\")\n",
    "    print(\"H0 diterima\")\n",
    "else:\n",
    "    print(\"Z > Z0\")\n",
    "    print(\"H0 ditolak\")\n",
    "\n",
    "if p_value > alpha:\n",
    "    print(\"p > alpha\")\n",
    "    print(\"H0 diterima\")\n",
    "else:\n",
    "    print(\"p < alpha\")\n",
    "    print(\"H0 ditolak\")\n"
   ]
  },
  {
   "attachments": {},
   "cell_type": "markdown",
   "metadata": {},
   "source": [
    "### b. Nilai rata-rata Residual Sugar tidak sama dengan 2.50?"
   ]
  },
  {
   "cell_type": "code",
   "execution_count": null,
   "metadata": {},
   "outputs": [],
   "source": [
    "# Inisiasi Variabel\n",
    "var = 2.5\n",
    "apha = 0.05\n",
    "rs_mean = data['residual sugar'].mean()\n",
    "rs_std = data['residual sugar'].std()\n",
    "n = data['residual sugar'].count()\n",
    "\n",
    "# Menggunakan Uji Z karena data > 30\n",
    "Z0 = norm.ppf(1 - (alpha/2)) # /2 karena dua sisi\n",
    "Z = (rs_mean - var) / (rs_std / np.sqrt(n))\n",
    "p_value = norm.sf(Z)\n",
    "\n",
    "# Hasil Akhir\n",
    "print(f\"Z = {Z}\")\n",
    "print(f\"Z0 = {Z0}\")\n",
    "print(f\"p_value = {p_value}\")\n",
    "if Z < Z0 and Z > -Z0:\n",
    "    print(\"Z < Z0 dan Z > -Z0\")\n",
    "    print(\"H0 diterima\")\n",
    "else:\n",
    "    print(\"Z > Z0 atau Z < -Z0\")\n",
    "    print(\"H0 ditolak\")\n",
    "\n",
    "if p_value > alpha/2 and p_value < 1 - alpha/2:\n",
    "    print(\"p > alpha/2 dan p < 1 - alpha/2\")\n",
    "    print(\"H0 diterima\")\n",
    "else:\n",
    "    print(\"p < alpha/2 atau p > 1 - alpha/2\")\n",
    "    print(\"H0 ditolak\")"
   ]
  },
  {
   "attachments": {},
   "cell_type": "markdown",
   "metadata": {},
   "source": [
    "### c. Nilai rata-rata 150 baris pertama kolom sulphates bukan 0.65?\n"
   ]
  },
  {
   "cell_type": "code",
   "execution_count": null,
   "metadata": {},
   "outputs": [],
   "source": [
    "# Inisiasi Variabel \n",
    "var = 0.65\n",
    "alpha = 0.05\n",
    "sulphates_150 = data['sulphates'].head(150)\n",
    "sulphates_150_mean = sulphates_150.mean()\n",
    "sulphates_150_std = sulphates_150.std()\n",
    "n = 150\n",
    "\n",
    "# Menggunakan Uji Z karena data > 30\n",
    "Z0 = norm.ppf(1 - (alpha/2))\n",
    "Z = (sulphates_150_mean - var) / (sulphates_150_std / np.sqrt(n))\n",
    "p_value = norm.sf(Z)\n",
    "\n",
    "# Hasil Akhir\n",
    "print(f\"Z = {Z}\")\n",
    "print(f\"Z0 = {Z0}\")\n",
    "print(f\"p_value = {p_value}\")\n",
    "if Z < Z0 and Z > -Z0:\n",
    "    print(\"Z < Z0 dan Z > -Z0\")\n",
    "    print(\"H0 diterima\")\n",
    "else:\n",
    "    print(\"Z > Z0 atau Z < -Z0\")\n",
    "    print(\"H0 ditolak\")\n",
    "    \n",
    "if p_value > alpha/2 and p_value < 1 - alpha/2:\n",
    "    print(\"p > alpha/2 dan p < 1 - alpha/2\")\n",
    "    print(\"H0 diterima\")\n",
    "else:\n",
    "    print(\"p < alpha/2 atau p > 1 - alpha/2\")\n",
    "    print(\"H0 ditolak\")"
   ]
  },
  {
   "attachments": {},
   "cell_type": "markdown",
   "metadata": {},
   "source": [
    "### d. Nilai rata-rata total sulfur dioxide di bawah 35?"
   ]
  },
  {
   "cell_type": "code",
   "execution_count": null,
   "metadata": {},
   "outputs": [],
   "source": [
    "# Inisiasi Variabel\n",
    "var = 35\n",
    "alpha = 0.05\n",
    "total_sulfur_dioxide = data['total sulfur dioxide']\n",
    "total_sulfur_dioxide_mean = total_sulfur_dioxide.mean()\n",
    "total_sulfur_dioxide_std = total_sulfur_dioxide.std()\n",
    "n = total_sulfur_dioxide.count()\n",
    "# Menggunakan Uji Z karena data > 30\n",
    "Z0 = norm.ppf(1 - (alpha))\n",
    "Z = (total_sulfur_dioxide_mean - var) / (total_sulfur_dioxide_std / np.sqrt(n))\n",
    "p_value = norm.sf(Z)\n",
    "\n",
    "# Hasil Akhir\n",
    "print(f\"Z = {Z}\")\n",
    "print(f\"Z0 = {Z0}\")\n",
    "print(f\"p_value = {p_value}\")\n",
    "\n",
    "if Z > Z0:\n",
    "    print(\"Z > Z0\")\n",
    "    print(\"H0 diterima\")\n",
    "else:\n",
    "    print(\"Z < Z0\")\n",
    "    print(\"H0 ditolak\")\n",
    "\n",
    "if p_value > alpha:\n",
    "    print(\"p > alpha\")\n",
    "    print(\"H0 ditolak\")\n",
    "else:\n",
    "    print(\"p < alpha\")\n",
    "    print(\"H0 diterima\")"
   ]
  },
  {
   "attachments": {},
   "cell_type": "markdown",
   "metadata": {},
   "source": [
    "### e. Proporsi nilai total Sulfat Dioxide yang lebih dari 40, adalah tidak sama dengan 50% ?"
   ]
  },
  {
   "cell_type": "code",
   "execution_count": null,
   "metadata": {},
   "outputs": [],
   "source": [
    "# Inisiasi Variabel\n",
    "total_sulfur_dioxide = data.loc[data['total sulfur dioxide'] > 40, 'total sulfur dioxide']\n",
    "total_sulfur_dioxide_mean = total_sulfur_dioxide.mean()\n",
    "total_sulfur_dioxide_std = total_sulfur_dioxide.std()\n",
    "n = total_sulfur_dioxide.count()\n",
    "n_all = data['total sulfur dioxide'].count()\n",
    "\n",
    "# Menggunakan Uji Z karena data > 30\n",
    "p_count = n / n_all\n",
    "p_percent = 0.5\n",
    "\n",
    "p = (p_percent*n_all+n) / (n_all*2)\n",
    "q = 1 - p\n",
    "\n",
    "Z = (p_count - p_percent) / np.sqrt((p*q*(1/n_all + 1/n_all)))\n",
    "Z0 = norm.ppf(1 - (alpha/2))\n",
    "\n",
    "p_value = norm.sf(Z)\n",
    "\n",
    "# Hasil Akhir\n",
    "print(f\"Z = {Z}\")\n",
    "print(f\"Z0 = {Z0}\")\n",
    "print(f\"p_value = {p_value}\")\n",
    "print(p,q)\n",
    "if Z < Z0 and Z > -Z0:\n",
    "    print(\"Z < Z0 dan Z > -Z0\")\n",
    "    print(\"H0 diterima\")\n",
    "else:\n",
    "    print(\"Z > Z0 atau Z < -Z0\")\n",
    "    print(\"H0 ditolak\")\n",
    "    \n",
    "if p_value > alpha/2 and p_value < 1 - alpha/2:\n",
    "    print(\"p > alpha/2 dan p < 1 - alpha/2\")\n",
    "    print(\"H0 diterima\")\n",
    "else:\n",
    "    print(\"p < alpha/2 atau p > 1 - alpha/2\")\n",
    "    print(\"H0 ditolak\")"
   ]
  },
  {
   "attachments": {},
   "cell_type": "markdown",
   "metadata": {},
   "source": [
    "# Table"
   ]
  },
  {
   "cell_type": "code",
   "execution_count": null,
   "metadata": {},
   "outputs": [],
   "source": [
    "df = pd.DataFrame(data)\n",
    "\n",
    "# print the DataFrame as a table\n",
    "print(df)"
   ]
  }
 ],
 "metadata": {
  "kernelspec": {
   "display_name": "Python 3",
   "language": "python",
   "name": "python3"
  },
  "language_info": {
   "codemirror_mode": {
    "name": "ipython",
    "version": 3
   },
   "file_extension": ".py",
   "mimetype": "text/x-python",
   "name": "python",
   "nbconvert_exporter": "python",
   "pygments_lexer": "ipython3",
   "version": "3.9.9"
  },
  "orig_nbformat": 4,
  "vscode": {
   "interpreter": {
    "hash": "6931a9a621d8ff6d07958d162f21a10a58d4e8c949ccb5bafc32b10cd7b79477"
   }
  }
 },
 "nbformat": 4,
 "nbformat_minor": 2
}
