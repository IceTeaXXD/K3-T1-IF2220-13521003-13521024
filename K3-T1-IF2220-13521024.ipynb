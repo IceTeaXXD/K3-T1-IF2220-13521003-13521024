{
 "cells": [
  {
   "cell_type": "code",
   "execution_count": null,
   "metadata": {},
   "outputs": [],
   "source": [
    "import pandas as pd\n",
    "import matplotlib.pyplot as plt\n",
    "from scipy.stats import norm, t, f\n",
    "import scipy.stats as stats\n",
    "import numpy as np\n",
    "data = pd.read_csv('anggur.csv')"
   ]
  },
  {
   "attachments": {},
   "cell_type": "markdown",
   "metadata": {},
   "source": [
    "# Nomor 1"
   ]
  },
  {
   "cell_type": "code",
   "execution_count": null,
   "metadata": {},
   "outputs": [],
   "source": [
    "data_stats = data.describe(include=[np.number])\n",
    "data_stats.loc['modus'] = data.mode().loc[0]\n",
    "data_stats.loc['std'] = data.std()\n",
    "data_stats.loc['variansi'] = data.var()\n",
    "data_stats.loc['range'] = data_stats.loc['max'] - data_stats.loc['min']\n",
    "data_stats.loc['IQR'] = data_stats.loc['75%'] - data_stats.loc['25%']\n",
    "data_stats.loc['skewness'] = data.skew()\n",
    "data_stats.loc['kurtosis'] = data.kurt()\n",
    "data_stats"
   ]
  },
  {
   "attachments": {},
   "cell_type": "markdown",
   "metadata": {},
   "source": [
    "# Nomor 2"
   ]
  },
  {
   "attachments": {},
   "cell_type": "markdown",
   "metadata": {},
   "source": [
    "### 1. Fixed Acidity"
   ]
  },
  {
   "cell_type": "code",
   "execution_count": null,
   "metadata": {},
   "outputs": [],
   "source": [
    "atr = data.columns[0]\n",
    "\n",
    "# create a new figure with two subplots\n",
    "fig, (ax1, ax2) = plt.subplots(ncols=2, figsize=(12,6))\n",
    "\n",
    "# plot the histogram on the first subplot\n",
    "col = data[atr]\n",
    "ax1.hist(col, bins=100)\n",
    "ax1.set_title(\"Histogram\")\n",
    "ax1.set_ylabel(\"frequency\")\n",
    "ax1.set_xlabel(\"value\")\n",
    "\n",
    "# plot the boxplot on the second subplot\n",
    "ax2.boxplot(col, vert=True, widths=0.5, patch_artist=True, boxprops=dict(facecolor='lightblue', color='black'), medianprops=dict(color='red'))\n",
    "plt.suptitle(atr)\n",
    "ax2.set_title('Boxplot')\n",
    "ax2.set_xlabel('value')\n",
    "ax2.yaxis.tick_right()\n",
    "\n",
    "# display the figure\n",
    "plt.show()\n"
   ]
  },
  {
   "attachments": {},
   "cell_type": "markdown",
   "metadata": {},
   "source": [
    "<p>\n",
    "    Pada data kolom fixed acidity, dapat dibaca melalui box plot bahwa data ini berdistribusi normal, dan terdapat juga 6 titik outlier yang terlihat pada value > 10 dan value < 4\n",
    "</p>"
   ]
  },
  {
   "attachments": {},
   "cell_type": "markdown",
   "metadata": {},
   "source": [
    "### 2. Volatile Acidity"
   ]
  },
  {
   "cell_type": "code",
   "execution_count": null,
   "metadata": {},
   "outputs": [],
   "source": [
    "atr = data.columns[1]\n",
    "\n",
    "# create a new figure with two subplots\n",
    "fig, (ax1, ax2) = plt.subplots(ncols=2, figsize=(12,6))\n",
    "\n",
    "# plot the histogram on the first subplot\n",
    "col = data[atr]\n",
    "ax1.hist(col, bins=100)\n",
    "ax1.set_title(\"Histogram\")\n",
    "ax1.set_ylabel(\"frequency\")\n",
    "ax1.set_xlabel(\"value\")\n",
    "\n",
    "# plot the boxplot on the second subplot\n",
    "ax2.boxplot(col, vert=True, widths=0.5, patch_artist=True, boxprops=dict(facecolor='lightblue', color='black'), medianprops=dict(color='red'))\n",
    "plt.suptitle(atr)\n",
    "ax2.set_title('Boxplot')\n",
    "ax2.set_xlabel('value')\n",
    "ax2.yaxis.tick_right()\n",
    "\n",
    "# display the figure\n",
    "plt.show()\n",
    "plt.show()"
   ]
  },
  {
   "attachments": {},
   "cell_type": "markdown",
   "metadata": {},
   "source": [
    "<p>\n",
    "    Pada data kolom volatile acidity, dapat dibaca melalui box plot bahwa data ini berdistribusi normal, dan terdapat juga 7 titik outlier yang terlihat pada value > 0.7 dan value < 0.3\n",
    "</p>"
   ]
  },
  {
   "attachments": {},
   "cell_type": "markdown",
   "metadata": {},
   "source": [
    "### 3. Citric Acid"
   ]
  },
  {
   "cell_type": "code",
   "execution_count": null,
   "metadata": {},
   "outputs": [],
   "source": [
    "atr = data.columns[2]\n",
    "\n",
    "# create a new figure with two subplots\n",
    "fig, (ax1, ax2) = plt.subplots(ncols=2, figsize=(12,6))\n",
    "\n",
    "# plot the histogram on the first subplot\n",
    "col = data[atr]\n",
    "ax1.hist(col, bins=100)\n",
    "ax1.set_title(\"Histogram\")\n",
    "ax1.set_ylabel(\"frequency\")\n",
    "ax1.set_xlabel(\"value\")\n",
    "\n",
    "# plot the boxplot on the second subplot\n",
    "ax2.boxplot(col, vert=True, widths=0.5, patch_artist=True, boxprops=dict(facecolor='lightblue', color='black'), medianprops=dict(color='red'))\n",
    "plt.suptitle(atr)\n",
    "ax2.set_title('Boxplot')\n",
    "ax2.set_xlabel('value')\n",
    "ax2.yaxis.tick_right()\n",
    "\n",
    "# display the figure\n",
    "plt.show()"
   ]
  },
  {
   "attachments": {},
   "cell_type": "markdown",
   "metadata": {},
   "source": [
    "<p>\n",
    "    Pada data kolom citric acid, dapat dibaca melalui box plot bahwa data ini berdistribusi normal, dan terdapat juga 7 titik outlier yang terlihat pada value > 0.4 dan value < 0.15\n",
    "</p>"
   ]
  },
  {
   "attachments": {},
   "cell_type": "markdown",
   "metadata": {},
   "source": [
    "### 4. Residual Sugar"
   ]
  },
  {
   "cell_type": "code",
   "execution_count": null,
   "metadata": {},
   "outputs": [],
   "source": [
    "atr = data.columns[3]\n",
    "\n",
    "# create a new figure with two subplots\n",
    "fig, (ax1, ax2) = plt.subplots(ncols=2, figsize=(12,6))\n",
    "\n",
    "# plot the histogram on the first subplot\n",
    "col = data[atr]\n",
    "ax1.hist(col, bins=100)\n",
    "ax1.set_title(\"Histogram\")\n",
    "ax1.set_ylabel(\"frequency\")\n",
    "ax1.set_xlabel(\"value\")\n",
    "\n",
    "# plot the boxplot on the second subplot\n",
    "ax2.boxplot(col, vert=True, widths=0.5, patch_artist=True, boxprops=dict(facecolor='lightblue', color='black'), medianprops=dict(color='red'))\n",
    "plt.suptitle(atr)\n",
    "ax2.set_title('Boxplot')\n",
    "ax2.set_xlabel('value')\n",
    "ax2.yaxis.tick_right()\n",
    "\n",
    "# display the figure\n",
    "plt.show()"
   ]
  },
  {
   "attachments": {},
   "cell_type": "markdown",
   "metadata": {},
   "source": [
    "<p>\n",
    "    Pada data kolom residual sugar, dapat dibaca melalui box plot bahwa data ini berdistribusi normal, dan terdapat juga beberapa titik outlier pada value > 5.\n",
    "</p>"
   ]
  },
  {
   "attachments": {},
   "cell_type": "markdown",
   "metadata": {},
   "source": [
    "### 5. Chlorides"
   ]
  },
  {
   "cell_type": "code",
   "execution_count": null,
   "metadata": {},
   "outputs": [],
   "source": [
    "atr = data.columns[4]\n",
    "\n",
    "# create a new figure with two subplots\n",
    "fig, (ax1, ax2) = plt.subplots(ncols=2, figsize=(12,6))\n",
    "\n",
    "# plot the histogram on the first subplot\n",
    "col = data[atr]\n",
    "ax1.hist(col, bins=100)\n",
    "ax1.set_title(\"Histogram\")\n",
    "ax1.set_ylabel(\"frequency\")\n",
    "ax1.set_xlabel(\"value\")\n",
    "\n",
    "# plot the boxplot on the second subplot\n",
    "ax2.boxplot(col, vert=True, widths=0.5, patch_artist=True, boxprops=dict(facecolor='lightblue', color='black'), medianprops=dict(color='red'))\n",
    "plt.suptitle(atr)\n",
    "ax2.set_title('Boxplot')\n",
    "ax2.set_xlabel('value')\n",
    "ax2.yaxis.tick_right()\n",
    "\n",
    "# display the figure\n",
    "plt.show()"
   ]
  },
  {
   "attachments": {},
   "cell_type": "markdown",
   "metadata": {},
   "source": [
    "<p>\n",
    "    Pada data kolom chlorides, dapat dibaca melalui box plot bahwa data ini berdistribusi normal, dan terdapat juga 3 titik outlier pada value > 0.13 dan value < 0.3\n",
    "</p>"
   ]
  },
  {
   "attachments": {},
   "cell_type": "markdown",
   "metadata": {},
   "source": [
    "### 6. Free Sulfur Dioxide"
   ]
  },
  {
   "cell_type": "code",
   "execution_count": null,
   "metadata": {},
   "outputs": [],
   "source": [
    "atr = data.columns[5]\n",
    "\n",
    "# create a new figure with two subplots\n",
    "fig, (ax1, ax2) = plt.subplots(ncols=2, figsize=(12,6))\n",
    "\n",
    "# plot the histogram on the first subplot\n",
    "col = data[atr]\n",
    "ax1.hist(col, bins=100)\n",
    "ax1.set_title(\"Histogram\")\n",
    "ax1.set_ylabel(\"frequency\")\n",
    "ax1.set_xlabel(\"value\")\n",
    "\n",
    "# plot the boxplot on the second subplot\n",
    "ax2.boxplot(col, vert=True, widths=0.5, patch_artist=True, boxprops=dict(facecolor='lightblue', color='black'), medianprops=dict(color='red'))\n",
    "plt.suptitle(atr)\n",
    "ax2.set_title('Boxplot')\n",
    "ax2.set_xlabel('value')\n",
    "ax2.yaxis.tick_right()\n",
    "\n",
    "# display the figure\n",
    "plt.show()"
   ]
  },
  {
   "attachments": {},
   "cell_type": "markdown",
   "metadata": {},
   "source": [
    "<p>\n",
    "    Pada data kolom residual sugar, dapat dibaca melalui box plot bahwa data ini berdistribusi normal, dan terdapat juga 3 titik outlier pada value < 4.\n",
    "</p>"
   ]
  },
  {
   "attachments": {},
   "cell_type": "markdown",
   "metadata": {},
   "source": [
    "### 7. Total Sulfur Dioxide"
   ]
  },
  {
   "cell_type": "code",
   "execution_count": null,
   "metadata": {},
   "outputs": [],
   "source": [
    "atr = data.columns[6]\n",
    "\n",
    "# create a new figure with two subplots\n",
    "fig, (ax1, ax2) = plt.subplots(ncols=2, figsize=(12,6))\n",
    "\n",
    "# plot the histogram on the first subplot\n",
    "col = data[atr]\n",
    "ax1.hist(col, bins=100)\n",
    "ax1.set_title(\"Histogram\")\n",
    "ax1.set_ylabel(\"frequency\")\n",
    "ax1.set_xlabel(\"value\")\n",
    "\n",
    "# plot the boxplot on the second subplot\n",
    "ax2.boxplot(col, vert=True, widths=0.5, patch_artist=True, boxprops=dict(facecolor='lightblue', color='black'), medianprops=dict(color='red'))\n",
    "plt.suptitle(atr)\n",
    "ax2.set_title('Boxplot')\n",
    "ax2.set_xlabel('value')\n",
    "ax2.yaxis.tick_right()\n",
    "\n",
    "# display the figure\n",
    "plt.show()"
   ]
  },
  {
   "attachments": {},
   "cell_type": "markdown",
   "metadata": {},
   "source": [
    "<p>\n",
    "    Pada data kolom total sulfur dioxide, dapat dibaca melalui box plot bahwa data ini berdistribusi normal, dan terdapat juga beberapa titik outlier pada value > 60 dan value < 20>.\n",
    "</p>"
   ]
  },
  {
   "attachments": {},
   "cell_type": "markdown",
   "metadata": {},
   "source": [
    "### 8. Density"
   ]
  },
  {
   "cell_type": "code",
   "execution_count": null,
   "metadata": {},
   "outputs": [],
   "source": [
    "atr = data.columns[7]\n",
    "\n",
    "# create a new figure with two subplots\n",
    "fig, (ax1, ax2) = plt.subplots(ncols=2, figsize=(12,6))\n",
    "\n",
    "# plot the histogram on the first subplot\n",
    "col = data[atr]\n",
    "ax1.hist(col, bins=100)\n",
    "ax1.set_title(\"Histogram\")\n",
    "ax1.set_ylabel(\"frequency\")\n",
    "ax1.set_xlabel(\"value\")\n",
    "\n",
    "# plot the boxplot on the second subplot\n",
    "ax2.boxplot(col, vert=True, widths=0.5, patch_artist=True, boxprops=dict(facecolor='lightblue', color='black'), medianprops=dict(color='red'))\n",
    "plt.suptitle(atr)\n",
    "ax2.set_title('Boxplot')\n",
    "ax2.set_xlabel('value')\n",
    "ax2.yaxis.tick_right()\n",
    "\n",
    "# display the figure\n",
    "plt.show()"
   ]
  },
  {
   "attachments": {},
   "cell_type": "markdown",
   "metadata": {},
   "source": [
    "<p>\n",
    "    Pada data kolom density, dapat dibaca melalui box plot bahwa data ini berdistribusi normal, dan terdapat juga beberapa titik outlier pada value > 1 dan value < 0.992.\n",
    "</p>"
   ]
  },
  {
   "attachments": {},
   "cell_type": "markdown",
   "metadata": {},
   "source": [
    "### 9. pH"
   ]
  },
  {
   "cell_type": "code",
   "execution_count": null,
   "metadata": {},
   "outputs": [],
   "source": [
    "atr = data.columns[8]\n",
    "\n",
    "# create a new figure with two subplots\n",
    "fig, (ax1, ax2) = plt.subplots(ncols=2, figsize=(12,6))\n",
    "\n",
    "# plot the histogram on the first subplot\n",
    "col = data[atr]\n",
    "ax1.hist(col, bins=100)\n",
    "ax1.set_title(\"Histogram\")\n",
    "ax1.set_ylabel(\"frequency\")\n",
    "ax1.set_xlabel(\"value\")\n",
    "\n",
    "# plot the boxplot on the second subplot\n",
    "ax2.boxplot(col, vert=True, widths=0.5, patch_artist=True, boxprops=dict(facecolor='lightblue', color='black'), medianprops=dict(color='red'))\n",
    "plt.suptitle(atr)\n",
    "ax2.set_title('Boxplot')\n",
    "ax2.set_xlabel('value')\n",
    "ax2.yaxis.tick_right()\n",
    "\n",
    "# display the figure\n",
    "plt.show()"
   ]
  },
  {
   "attachments": {},
   "cell_type": "markdown",
   "metadata": {},
   "source": [
    "<p>\n",
    "    Pada data kolom pH, dapat dibaca melalui box plot bahwa data ini berdistribusi normal, dan terdapat juga 5 titik outlier pada value > 3.6 dan value < 3.1.\n",
    "</p>"
   ]
  },
  {
   "attachments": {},
   "cell_type": "markdown",
   "metadata": {},
   "source": [
    "### 10. Sulfates"
   ]
  },
  {
   "cell_type": "code",
   "execution_count": null,
   "metadata": {},
   "outputs": [],
   "source": [
    "atr = data.columns[9]\n",
    "\n",
    "# create a new figure with two subplots\n",
    "fig, (ax1, ax2) = plt.subplots(ncols=2, figsize=(12,6))\n",
    "\n",
    "# plot the histogram on the first subplot\n",
    "col = data[atr]\n",
    "ax1.hist(col, bins=100)\n",
    "ax1.set_title(\"Histogram\")\n",
    "ax1.set_ylabel(\"frequency\")\n",
    "ax1.set_xlabel(\"value\")\n",
    "\n",
    "# plot the boxplot on the second subplot\n",
    "ax2.boxplot(col, vert=True, widths=0.5, patch_artist=True, boxprops=dict(facecolor='lightblue', color='black'), medianprops=dict(color='red'))\n",
    "plt.suptitle(atr)\n",
    "ax2.set_title('Boxplot')\n",
    "ax2.set_xlabel('value')\n",
    "ax2.yaxis.tick_right()\n",
    "\n",
    "# display the figure\n",
    "plt.show()"
   ]
  },
  {
   "attachments": {},
   "cell_type": "markdown",
   "metadata": {},
   "source": [
    "<p>\n",
    "    Pada data kolom sulphates, dapat dibaca melalui box plot bahwa data ini berdistribusi normal, dan terdapat juga beberapa titik outlier pada value > 0.85 dan value < 0.4.\n",
    "</p>"
   ]
  },
  {
   "attachments": {},
   "cell_type": "markdown",
   "metadata": {},
   "source": [
    "### 11. Alcohol"
   ]
  },
  {
   "cell_type": "code",
   "execution_count": null,
   "metadata": {},
   "outputs": [],
   "source": [
    "atr = data.columns[10]\n",
    "\n",
    "# create a new figure with two subplots\n",
    "fig, (ax1, ax2) = plt.subplots(ncols=2, figsize=(12,6))\n",
    "\n",
    "# plot the histogram on the first subplot\n",
    "col = data[atr]\n",
    "ax1.hist(col, bins=100)\n",
    "ax1.set_title(\"Histogram\")\n",
    "ax1.set_ylabel(\"frequency\")\n",
    "ax1.set_xlabel(\"value\")\n",
    "\n",
    "# plot the boxplot on the second subplot\n",
    "ax2.boxplot(col, vert=True, widths=0.5, patch_artist=True, boxprops=dict(facecolor='lightblue', color='black'), medianprops=dict(color='red'))\n",
    "plt.suptitle(atr)\n",
    "ax2.set_title('Boxplot')\n",
    "ax2.set_xlabel('value')\n",
    "ax2.yaxis.tick_right()\n",
    "\n",
    "# display the figure\n",
    "plt.show()"
   ]
  },
  {
   "attachments": {},
   "cell_type": "markdown",
   "metadata": {},
   "source": [
    "<p>\n",
    "    Pada data kolom alcohol, dapat dibaca melalui box plot bahwa data ini berdistribusi normal, dan terdapat juga beberapa titik outlier pada value > 14 dan value < 7.\n",
    "</p>"
   ]
  },
  {
   "attachments": {},
   "cell_type": "markdown",
   "metadata": {},
   "source": [
    "### 12. Quality"
   ]
  },
  {
   "cell_type": "code",
   "execution_count": null,
   "metadata": {},
   "outputs": [],
   "source": [
    "atr = data.columns[11]\n",
    "\n",
    "# create a new figure with two subplots\n",
    "fig, (ax1, ax2) = plt.subplots(ncols=2, figsize=(12,6))\n",
    "\n",
    "# plot the histogram on the first subplot\n",
    "col = data[atr]\n",
    "ax1.hist(col, bins=100)\n",
    "ax1.set_title(\"Histogram\")\n",
    "ax1.set_ylabel(\"frequency\")\n",
    "ax1.set_xlabel(\"value\")\n",
    "\n",
    "# plot the boxplot on the second subplot\n",
    "ax2.boxplot(col, vert=True, widths=0.5, patch_artist=True, boxprops=dict(facecolor='lightblue', color='black'), medianprops=dict(color='red'))\n",
    "plt.suptitle(atr)\n",
    "ax2.set_title('Boxplot')\n",
    "ax2.set_xlabel('value')\n",
    "ax2.yaxis.tick_right()\n",
    "\n",
    "# display the figure\n",
    "plt.show()"
   ]
  },
  {
   "attachments": {},
   "cell_type": "markdown",
   "metadata": {},
   "source": [
    "<p>\n",
    "    Pada data kolom quality, saya tidak tau ini gimana awokaowkawokawokawokawok\n",
    "</p>"
   ]
  },
  {
   "attachments": {},
   "cell_type": "markdown",
   "metadata": {},
   "source": [
    "# Nomor 3"
   ]
  },
  {
   "cell_type": "code",
   "execution_count": null,
   "metadata": {},
   "outputs": [],
   "source": [
    "fig, axs = plt.subplots(4, 3, figsize=(15, 15))\n",
    "\n",
    "for i, atr in enumerate(data.columns):\n",
    "    row = i // 3\n",
    "    col = i % 3\n",
    "    ax = axs[row, col]\n",
    "    col_data = data[atr]\n",
    "    ax.hist(col_data, bins=100, density=True)\n",
    "    ax.set_title(atr)\n",
    "    mu, std = norm.fit(col_data)\n",
    "    xmin, xmax = ax.get_xlim()\n",
    "    x = np.linspace(xmin, xmax, 100)\n",
    "    p = norm.pdf(x, mu, std)\n",
    "    ax.plot(x, p, 'k', linewidth=2, alpha=0.5)\n",
    "    ax.set_xlabel('Values')\n",
    "    ax.set_ylabel('Probability Density Function')\n",
    "\n",
    "plt.tight_layout()\n",
    "plt.show()"
   ]
  },
  {
   "attachments": {},
   "cell_type": "markdown",
   "metadata": {},
   "source": [
    "# Nomor 4"
   ]
  },
  {
   "attachments": {},
   "cell_type": "markdown",
   "metadata": {},
   "source": [
    "### a. Nilai rata-rata pH di atas 3.29?"
   ]
  },
  {
   "cell_type": "code",
   "execution_count": null,
   "metadata": {},
   "outputs": [],
   "source": [
    "# Inisiasi Variabel\n",
    "var = 3.29\n",
    "alpha = 0.05\n",
    "pH_mean = data['pH'].mean()\n",
    "pH_std = data['pH'].std()\n",
    "n = data['pH'].count()\n",
    "\n",
    "# Menggunakan Uji Z karena data > 30\n",
    "Z0 = norm.ppf(1 - (alpha))\n",
    "Z = (pH_mean - var) / (pH_std / np.sqrt(n))\n",
    "p_value = norm.sf(Z)\n",
    "\n",
    "# Hasil Akhir\n",
    "print(f\"Z = {Z}\")\n",
    "print(f\"Z0 = {Z0}\")\n",
    "print(f\"p_value = {p_value}\")\n",
    "if Z < Z0:\n",
    "    print(\"Z < Z0\")\n",
    "    print(\"H0 diterima\")\n",
    "else:\n",
    "    print(\"Z > Z0\")\n",
    "    print(\"H0 ditolak\")\n",
    "\n",
    "if p_value > alpha:\n",
    "    print(\"p > alpha\")\n",
    "    print(\"H0 diterima\")\n",
    "else:\n",
    "    print(\"p < alpha\")\n",
    "    print(\"H0 ditolak\")\n"
   ]
  },
  {
   "attachments": {},
   "cell_type": "markdown",
   "metadata": {},
   "source": [
    "### b. Nilai rata-rata Residual Sugar tidak sama dengan 2.50?"
   ]
  },
  {
   "cell_type": "code",
   "execution_count": null,
   "metadata": {},
   "outputs": [],
   "source": [
    "# Inisiasi Variabel\n",
    "var = 2.5\n",
    "rs_mean = data['residual sugar'].mean()\n",
    "rs_std = data['residual sugar'].std()\n",
    "n = data['residual sugar'].count()\n",
    "\n",
    "# Menggunakan Uji Z karena data > 30\n",
    "Z0 = norm.ppf(1 - (alpha/2)) # /2 karena dua sisi\n",
    "Z = (rs_mean - var) / (rs_std / np.sqrt(n))\n",
    "p_value = norm.sf(Z)\n",
    "\n",
    "# Hasil Akhir\n",
    "print(f\"Z = {Z}\")\n",
    "print(f\"Z0 = {Z0}\")\n",
    "print(f\"p_value = {p_value}\")\n",
    "if Z < Z0 and Z > -Z0:\n",
    "    print(\"Z < Z0 dan Z > -Z0\")\n",
    "    print(\"H0 diterima\")\n",
    "else:\n",
    "    print(\"Z > Z0 atau Z < -Z0\")\n",
    "    print(\"H0 ditolak\")\n",
    "\n",
    "if p_value > alpha/2 and p_value < 1 - alpha/2:\n",
    "    print(\"p > alpha/2 dan p < 1 - alpha/2\")\n",
    "    print(\"H0 diterima\")\n",
    "else:\n",
    "    print(\"p < alpha/2 atau p > 1 - alpha/2\")\n",
    "    print(\"H0 ditolak\")"
   ]
  },
  {
   "attachments": {},
   "cell_type": "markdown",
   "metadata": {},
   "source": [
    "### c. Nilai rata-rata 150 baris pertama kolom sulphates bukan 0.65?\n"
   ]
  },
  {
   "cell_type": "code",
   "execution_count": null,
   "metadata": {},
   "outputs": [],
   "source": [
    "# Inisiasi Variabel \n",
    "var = 0.65\n",
    "sulphates_150 = data['sulphates'].head(150)\n",
    "sulphates_150_mean = sulphates_150.mean()\n",
    "sulphates_150_std = sulphates_150.std()\n",
    "n = 150\n",
    "\n",
    "# Menggunakan Uji Z karena data > 30\n",
    "Z0 = norm.ppf(1 - (alpha/2))\n",
    "Z = (sulphates_150_mean - var) / (sulphates_150_std / np.sqrt(n))\n",
    "p_value = norm.sf(Z)\n",
    "\n",
    "# Hasil Akhir\n",
    "print(f\"Z = {Z}\")\n",
    "print(f\"Z0 = {Z0}\")\n",
    "print(f\"p_value = {p_value}\")\n",
    "if Z < Z0 and Z > -Z0:\n",
    "    print(\"Z < Z0 dan Z > -Z0\")\n",
    "    print(\"H0 diterima\")\n",
    "else:\n",
    "    print(\"Z > Z0 atau Z < -Z0\")\n",
    "    print(\"H0 ditolak\")\n",
    "    \n",
    "if p_value > alpha/2 and p_value < 1 - alpha/2:\n",
    "    print(\"p > alpha/2 dan p < 1 - alpha/2\")\n",
    "    print(\"H0 diterima\")\n",
    "else:\n",
    "    print(\"p < alpha/2 atau p > 1 - alpha/2\")\n",
    "    print(\"H0 ditolak\")"
   ]
  },
  {
   "attachments": {},
   "cell_type": "markdown",
   "metadata": {},
   "source": [
    "### d. Nilai rata-rata total sulfur dioxide di bawah 35?"
   ]
  },
  {
   "cell_type": "code",
   "execution_count": null,
   "metadata": {},
   "outputs": [],
   "source": [
    "# Inisiasi Variabel\n",
    "var = 35\n",
    "total_sulfur_dioxide = data['total sulfur dioxide']\n",
    "total_sulfur_dioxide_mean = total_sulfur_dioxide.mean()\n",
    "total_sulfur_dioxide_std = total_sulfur_dioxide.std()\n",
    "n = total_sulfur_dioxide.count()\n",
    "# Menggunakan Uji Z karena data > 30\n",
    "Z0 = norm.ppf(1 - (alpha))\n",
    "Z = (total_sulfur_dioxide_mean - var) / (total_sulfur_dioxide_std / np.sqrt(n))\n",
    "p_value = norm.sf(Z)\n",
    "\n",
    "# Hasil Akhir\n",
    "print(f\"Z = {Z}\")\n",
    "print(f\"Z0 = {Z0}\")\n",
    "print(f\"p_value = {p_value}\")\n",
    "\n",
    "if Z > Z0:\n",
    "    print(\"Z > Z0\")\n",
    "    print(\"H0 diterima\")\n",
    "else:\n",
    "    print(\"Z < Z0\")\n",
    "    print(\"H0 ditolak\")\n",
    "\n",
    "if p_value > alpha:\n",
    "    print(\"p > alpha\")\n",
    "    print(\"H0 ditolak\")\n",
    "else:\n",
    "    print(\"p < alpha\")\n",
    "    print(\"H0 diterima\")"
   ]
  },
  {
   "attachments": {},
   "cell_type": "markdown",
   "metadata": {},
   "source": [
    "### e. Proporsi nilai total Sulfat Dioxide yang lebih dari 40, adalah tidak sama dengan 50% ?"
   ]
  },
  {
   "cell_type": "code",
   "execution_count": null,
   "metadata": {},
   "outputs": [],
   "source": [
    "# Inisiasi Variabel\n",
    "total_sulfur_dioxide = data.loc[data['total sulfur dioxide'] > 40, 'total sulfur dioxide']\n",
    "total_sulfur_dioxide_mean = total_sulfur_dioxide.mean()\n",
    "total_sulfur_dioxide_std = total_sulfur_dioxide.std()\n",
    "n = total_sulfur_dioxide.count()\n",
    "n_all = data['total sulfur dioxide'].count()\n",
    "\n",
    "# Menggunakan Uji Z karena data > 30\n",
    "p_count = n / n_all\n",
    "p_percent = 0.5\n",
    "q = 1 - p_percent\n",
    "\n",
    "Z = (p_count - p_percent) / np.sqrt(p_percent*q/n_all)\n",
    "Z0 = norm.ppf(1 - (alpha/2))\n",
    "\n",
    "p_value = norm.sf(Z)\n",
    "\n",
    "# Hasil Akhir\n",
    "print(f\"Z = {Z}\")\n",
    "print(f\"Z0 = {Z0}\")\n",
    "print(f\"p_value = {p_value}\")\n",
    "if Z < Z0 and Z > -Z0:\n",
    "    print(\"Z < Z0 dan Z > -Z0\")\n",
    "    print(\"H0 diterima\")\n",
    "else:\n",
    "    print(\"Z > Z0 atau Z < -Z0\")\n",
    "    print(\"H0 ditolak\")\n",
    "    \n",
    "if p_value > alpha/2 and p_value < 1 - alpha/2:\n",
    "    print(\"p > alpha/2 dan p < 1 - alpha/2\")\n",
    "    print(\"H0 diterima\")\n",
    "else:\n",
    "    print(\"p < alpha/2 atau p > 1 - alpha/2\")\n",
    "    print(\"H0 ditolak\")"
   ]
  },
  {
   "attachments": {},
   "cell_type": "markdown",
   "metadata": {},
   "source": [
    "# Nomor 5"
   ]
  },
  {
   "attachments": {},
   "cell_type": "markdown",
   "metadata": {},
   "source": [
    "### a. Data kolom fixed acidity dibagi 2 sama rata: bagian awal dan bagian akhir kolom. Benarkah rata-rata kedua bagian tersebut sama?"
   ]
  },
  {
   "cell_type": "code",
   "execution_count": null,
   "metadata": {},
   "outputs": [],
   "source": [
    "# Inisiasi Variabel\n",
    "fixed_acidity_head = data['fixed acidity'].head(data['fixed acidity'].count()//2)\n",
    "fixed_acidity_tail = data['fixed acidity'].tail(data['fixed acidity'].count()//2)\n",
    "head_count = fixed_acidity_head.count()\n",
    "tail_count = fixed_acidity_tail.count()\n",
    "head_mean = fixed_acidity_head.mean()\n",
    "tail_mean = fixed_acidity_tail.mean()\n",
    "head_std = fixed_acidity_head.std()\n",
    "tail_std = fixed_acidity_tail.std()\n",
    "head_variance = fixed_acidity_head.var()\n",
    "tail_variance = fixed_acidity_tail.var()\n",
    "\n",
    "# Menggunakan Uji Z karena data > 30\n",
    "Z0 = norm.ppf(1 - (alpha/2))\n",
    "Z = (head_mean - tail_mean) / np.sqrt((head_variance/head_count) + (tail_variance/tail_count))\n",
    "p_value = norm.sf(Z)\n",
    "\n",
    "print(f\"Z = {Z}\")\n",
    "print(f\"Z0 = {Z0}\")\n",
    "print(f\"p_value = {p_value}\")\n",
    "if Z < Z0 and Z > -Z0:\n",
    "    print(\"Z < Z0 dan Z > -Z0\")\n",
    "    print(\"H0 diterima\")\n",
    "else:\n",
    "    print(\"Z > Z0 atau Z < -Z0\")\n",
    "    print(\"H0 ditolak\")\n",
    "\n",
    "if p_value > alpha/2 and p_value < 1 - alpha/2:\n",
    "    print(\"p > alpha/2 dan p < 1 - alpha/2\")\n",
    "    print(\"H0 diterima\")\n",
    "else:\n",
    "    print(\"p < alpha/2 atau p > 1 - alpha/2\")\n",
    "    print(\"H0 ditolak\")\n",
    "\n"
   ]
  },
  {
   "attachments": {},
   "cell_type": "markdown",
   "metadata": {},
   "source": [
    "### b. Data kolom chlorides dibagi 2 sama rata: bagian awal dan bagian akhir kolom. Benarkah rata-rata bagian awal lebih besar daripada bagian akhir sebesar 0.001?"
   ]
  },
  {
   "cell_type": "code",
   "execution_count": null,
   "metadata": {},
   "outputs": [],
   "source": [
    "# H0 : mean_awal = mean_akhir + 0.001\n",
    "# H1 : mean_awal != mean_akhir + 0.001\n",
    "\n",
    "# Inisiasi Variabel\n",
    "delta = 0.001\n",
    "chloride_head = data['chlorides'].head(data['chlorides'].count()//2)\n",
    "chloride_tail = data['chlorides'].tail(data['chlorides'].count()//2)\n",
    "head_count = chloride_head.count()\n",
    "tail_count = chloride_tail.count()\n",
    "head_mean = chloride_head.mean()\n",
    "tail_mean = chloride_tail.mean()\n",
    "chlorides_std = data['chlorides'].std()\n",
    "\n",
    "# Menggunakan Uji Z karena data > 30\n",
    "Z0 = norm.ppf(1 - (alpha/2)) # /2 karena dua sisi\n",
    "Z = (head_mean - tail_mean - delta) / (chlorides_std / np.sqrt(n//2))\n",
    "p_value = norm.sf(Z)\n",
    "\n",
    "# Hasil Akhir\n",
    "print(f\"Z = {Z}\")\n",
    "print(f\"Z0 = {Z0}\")\n",
    "print(f\"p_value = {p_value}\")\n",
    "if Z < Z0 and Z > -Z0:\n",
    "    print(\"Z < Z0 dan Z > -Z0\")\n",
    "    print(\"H0 diterima\")\n",
    "else:\n",
    "    print(\"Z > Z0 atau Z < -Z0\")\n",
    "    print(\"H0 ditolak\")\n",
    "\n",
    "if p_value > alpha/2 and p_value < 1 - alpha/2:\n",
    "    print(\"p > alpha/2 dan p < 1 - alpha/2\")\n",
    "    print(\"H0 diterima\")\n",
    "else:\n",
    "    print(\"p < alpha/2 atau p > 1 - alpha/2\")\n",
    "    print(\"H0 ditolak\")\n",
    "\n",
    "\n",
    "\n"
   ]
  },
  {
   "attachments": {},
   "cell_type": "markdown",
   "metadata": {},
   "source": [
    "### c. Benarkah rata-rata sampel 25 baris pertama kolom Volatile Acidity sama dengan rata-rata 25 baris pertama kolom Sulphates ?"
   ]
  },
  {
   "cell_type": "code",
   "execution_count": null,
   "metadata": {},
   "outputs": [],
   "source": [
    "# Inisiasi Variabel\n",
    "volatile_acidity_head = data['volatile acidity'].head(25)\n",
    "volatile_acidity_head_count = volatile_acidity_head.count()\n",
    "volatile_acidity_head_mean = volatile_acidity_head.mean()\n",
    "volatile_acidity_head_std = volatile_acidity_head.std()\n",
    "volatile_acidity_head_variance = volatile_acidity_head.var()\n",
    "\n",
    "sulphates_head = data['sulphates'].head(25)\n",
    "sulphates_head_count = sulphates_head.count()\n",
    "sulphates_head_mean = sulphates_head.mean()\n",
    "sulphates_head_std = sulphates_head.std()\n",
    "sulphates_head_variance = sulphates_head.var()\n",
    "\n",
    "\n",
    "# Menggunakan Uji t karena data < 30\n",
    "dk = volatile_acidity_head_count + sulphates_head_count - 2\n",
    "t0 = t.ppf(1 - alpha/2, dk)\n",
    "t_uji = (volatile_acidity_head_mean - sulphates_head_mean) / np.sqrt(((volatile_acidity_head_variance*(volatile_acidity_head_count-1) +\\\n",
    "         sulphates_head_variance*(sulphates_head_count-1))/dk)*(1/volatile_acidity_head_count) + (1/sulphates_head_count))\n",
    "print(np.sqrt(((volatile_acidity_head_variance*(volatile_acidity_head_count-1) + sulphates_head_variance*(sulphates_head_count-1))/dk)))\n",
    "p_value = norm.sf(Z)    \n",
    "\n",
    "print(f\"t0 = {t0}\")\n",
    "print(f\"t = {t_uji}\")\n",
    "print(f\"p_value = {p_value}\")\n",
    "if t_uji < t0 and t_uji > -t0:\n",
    "    print(\"t < t0 dan t > -t0\")\n",
    "    print(\"H0 diterima\")\n",
    "else:\n",
    "    print(\"t > t0 atau t < -t0\")\n",
    "    print(\"H0 ditolak\")\n",
    "\n",
    "if p_value > alpha/2 and p_value < 1 - alpha/2:\n",
    "    print(\"p > alpha/2 dan p < 1 - alpha/2\")\n",
    "    print(\"H0 diterima\")\n",
    "else:\n",
    "    print(\"p < alpha/2 atau p > 1 - alpha/2\")\n",
    "    print(\"H0 ditolak\")"
   ]
  },
  {
   "attachments": {},
   "cell_type": "markdown",
   "metadata": {},
   "source": [
    "### d. Bagian awal kolom residual sugar memiliki variansi yang sama dengan bagian akhirnya?"
   ]
  },
  {
   "cell_type": "code",
   "execution_count": null,
   "metadata": {},
   "outputs": [],
   "source": [
    "# Inisiasi Variabel\n",
    "residual_sugar_head = data['residual sugar'].head(data['residual sugar'].count()//2)\n",
    "residual_sugar_tail = data['residual sugar'].tail(data['residual sugar'].count()//2)\n",
    "head_count = residual_sugar_head.count()\n",
    "tail_count = residual_sugar_tail.count()\n",
    "head_mean = residual_sugar_head.mean()\n",
    "tail_mean = residual_sugar_tail.mean()\n",
    "head_std = residual_sugar_head.std()\n",
    "tail_std = residual_sugar_tail.std()\n",
    "head_variance = residual_sugar_head.var()\n",
    "tail_variance = residual_sugar_tail.var()\n",
    "head_dk = head_count - 1\n",
    "tail_dk = tail_count - 1\n",
    "\n",
    "# Menggunakan uji f\n",
    "Falpha = f.ppf(q=1-alpha/2, dfn=head_dk, dfd=tail_dk)\n",
    "F1minalpha = f.ppf(q=alpha/2, dfn=head_dk, dfd=tail_dk)\n",
    "F = head_variance/tail_variance\n",
    "print(f\"n awal = {head_count}\")\n",
    "print(f\"rata-rata awal = {head_mean}\")\n",
    "print(f\"simpangan baku awal = {head_std}\")\n",
    "print(f\"variansi awal = {head_variance}\")\n",
    "print(f\"n akhir = {tail_count}\")\n",
    "print(f\"rata-rata akhir = {tail_mean}\")\n",
    "print(f\"simpangan baku akhir = {tail_std}\")\n",
    "print(f\"variansi akhir = {tail_variance}\")\n",
    "print(f\"F(alpha){head_dk, tail_dk} = {Falpha}\")\n",
    "print(f\"F(1-alpha){head_dk, tail_dk} = {F1minalpha}\")\n",
    "print(f\"f = {F}\")\n",
    "\n",
    "# Hasil Akhir\n",
    "if F > F1minalpha and F < Falpha:\n",
    "    print(f\"F > F(1-alpha){head_dk, tail_dk} dan F < F(alpha){head_dk, tail_dk}\")\n",
    "    print(\"H0 diterima\")\n",
    "else:\n",
    "    print(f\"F < F(1-alpha){head_dk, tail_dk} atau F > F(alpha){head_dk, tail_dk}\")\n",
    "    print(\"H0 ditolak\")\n",
    "\n"
   ]
  },
  {
   "attachments": {},
   "cell_type": "markdown",
   "metadata": {},
   "source": [
    "### e. Proporsi nilai setengah bagian awal alcohol yang lebih dari 7, adalah lebih besar daripada, proporsi nilai yang sama di setengah bagian akhir alcohol?"
   ]
  },
  {
   "cell_type": "code",
   "execution_count": null,
   "metadata": {},
   "outputs": [],
   "source": [
    "# Inisiasi Variabel\n",
    "alcohol_awal = data.head(500).loc[data['alcohol'] > 7, 'alcohol']\n",
    "alcohol_mean_awal = alcohol_awal.mean()\n",
    "alcohol_std_awal = alcohol_awal.std()\n",
    "n_awal = alcohol_awal.count()\n",
    "n_all_awal = data['alcohol'].head(500).count()\n",
    "\n",
    "alcohol_akhir = data.tail(500).loc[data['alcohol'] > 7, 'alcohol']\n",
    "alcohol_mean_akhir = alcohol_akhir.mean()\n",
    "alcohol_std_akhir = alcohol_akhir.std()\n",
    "n_akhir = alcohol_akhir.count()\n",
    "n_all_akhir = data['alcohol'].tail(500).count()\n",
    "\n",
    "# Menggunakan Uji Z karena data > 30\n",
    "p_awal = n_awal/n_all_awal\n",
    "p_akhir = n_akhir/n_all_akhir\n",
    "p = (n_awal+n_akhir)/(n_all_awal+n_all_akhir)\n",
    "q = 1-p\n",
    "print(np.sqrt(p * q * (1/n_all_awal + 1/n_all_akhir)))\n",
    "print(f\"mean awal = {alcohol_mean_awal}\")\n",
    "print(f\"mean akhir = {alcohol_mean_akhir}\")\n",
    "print(f\"std awal = {alcohol_std_awal}\")\n",
    "print(f\"std akhir = {alcohol_std_akhir}\")\n",
    "print(f\"n_awal = {n_awal}\")\n",
    "print(f\"n_akhir = {n_akhir}\")\n",
    "print(p_awal, p_akhir, p, q)\n",
    "Z = (p_awal - p_akhir)/(np.sqrt(p * q * (1/n_all_awal + 1/n_all_akhir)))\n",
    "p_value = norm.sf(Z)\n",
    "if(p_value < alpha):\n",
    "    print(\"H0 ditolak\")\n",
    "else:\n",
    "    print(\"diterima\")"
   ]
  },
  {
   "attachments": {},
   "cell_type": "markdown",
   "metadata": {},
   "source": [
    "# Table"
   ]
  },
  {
   "cell_type": "code",
   "execution_count": null,
   "metadata": {},
   "outputs": [],
   "source": [
    "df = pd.DataFrame(data)\n",
    "\n",
    "# print the DataFrame as a table\n",
    "print(df)"
   ]
  }
 ],
 "metadata": {
  "kernelspec": {
   "display_name": "Python 3",
   "language": "python",
   "name": "python3"
  },
  "language_info": {
   "codemirror_mode": {
    "name": "ipython",
    "version": 3
   },
   "file_extension": ".py",
   "mimetype": "text/x-python",
   "name": "python",
   "nbconvert_exporter": "python",
   "pygments_lexer": "ipython3",
   "version": "3.9.9"
  },
  "orig_nbformat": 4,
  "vscode": {
   "interpreter": {
    "hash": "6931a9a621d8ff6d07958d162f21a10a58d4e8c949ccb5bafc32b10cd7b79477"
   }
  }
 },
 "nbformat": 4,
 "nbformat_minor": 2
}
